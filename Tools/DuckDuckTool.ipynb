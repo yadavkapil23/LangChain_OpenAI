{
 "cells": [
  {
   "cell_type": "code",
   "execution_count": 1,
   "id": "cb6212cc",
   "metadata": {},
   "outputs": [
    {
     "name": "stdout",
     "output_type": "stream",
     "text": [
      "Requirement already satisfied: langchain in c:\\users\\ky805\\downloads\\kapil\\langchain_openai\\venv\\lib\\site-packages (0.3.25)\n",
      "Requirement already satisfied: langchain-core in c:\\users\\ky805\\downloads\\kapil\\langchain_openai\\venv\\lib\\site-packages (0.3.61)\n",
      "Requirement already satisfied: langchain-community in c:\\users\\ky805\\downloads\\kapil\\langchain_openai\\venv\\lib\\site-packages (0.3.24)\n",
      "Requirement already satisfied: pydantic in c:\\users\\ky805\\downloads\\kapil\\langchain_openai\\venv\\lib\\site-packages (2.11.5)\n",
      "Collecting duckduckgo-search\n",
      "  Downloading duckduckgo_search-8.0.2-py3-none-any.whl.metadata (16 kB)\n",
      "Requirement already satisfied: langchain_experimental in c:\\users\\ky805\\downloads\\kapil\\langchain_openai\\venv\\lib\\site-packages (0.3.4)\n",
      "Requirement already satisfied: langchain-text-splitters<1.0.0,>=0.3.8 in c:\\users\\ky805\\downloads\\kapil\\langchain_openai\\venv\\lib\\site-packages (from langchain) (0.3.8)\n",
      "Requirement already satisfied: langsmith<0.4,>=0.1.17 in c:\\users\\ky805\\downloads\\kapil\\langchain_openai\\venv\\lib\\site-packages (from langchain) (0.3.42)\n",
      "Requirement already satisfied: SQLAlchemy<3,>=1.4 in c:\\users\\ky805\\downloads\\kapil\\langchain_openai\\venv\\lib\\site-packages (from langchain) (2.0.41)\n",
      "Requirement already satisfied: requests<3,>=2 in c:\\users\\ky805\\downloads\\kapil\\langchain_openai\\venv\\lib\\site-packages (from langchain) (2.32.3)\n",
      "Requirement already satisfied: PyYAML>=5.3 in c:\\users\\ky805\\downloads\\kapil\\langchain_openai\\venv\\lib\\site-packages (from langchain) (6.0.2)\n",
      "Requirement already satisfied: tenacity!=8.4.0,<10.0.0,>=8.1.0 in c:\\users\\ky805\\downloads\\kapil\\langchain_openai\\venv\\lib\\site-packages (from langchain-core) (9.1.2)\n",
      "Requirement already satisfied: jsonpatch<2.0,>=1.33 in c:\\users\\ky805\\downloads\\kapil\\langchain_openai\\venv\\lib\\site-packages (from langchain-core) (1.33)\n",
      "Requirement already satisfied: packaging<25,>=23.2 in c:\\users\\ky805\\downloads\\kapil\\langchain_openai\\venv\\lib\\site-packages (from langchain-core) (24.2)\n",
      "Requirement already satisfied: typing-extensions>=4.7 in c:\\users\\ky805\\downloads\\kapil\\langchain_openai\\venv\\lib\\site-packages (from langchain-core) (4.13.2)\n",
      "Requirement already satisfied: aiohttp<4.0.0,>=3.8.3 in c:\\users\\ky805\\downloads\\kapil\\langchain_openai\\venv\\lib\\site-packages (from langchain-community) (3.12.2)\n",
      "Requirement already satisfied: dataclasses-json<0.7,>=0.5.7 in c:\\users\\ky805\\downloads\\kapil\\langchain_openai\\venv\\lib\\site-packages (from langchain-community) (0.6.7)\n",
      "Requirement already satisfied: pydantic-settings<3.0.0,>=2.4.0 in c:\\users\\ky805\\downloads\\kapil\\langchain_openai\\venv\\lib\\site-packages (from langchain-community) (2.9.1)\n",
      "Requirement already satisfied: httpx-sse<1.0.0,>=0.4.0 in c:\\users\\ky805\\downloads\\kapil\\langchain_openai\\venv\\lib\\site-packages (from langchain-community) (0.4.0)\n",
      "Requirement already satisfied: numpy>=2.1.0 in c:\\users\\ky805\\downloads\\kapil\\langchain_openai\\venv\\lib\\site-packages (from langchain-community) (2.2.6)\n",
      "Requirement already satisfied: annotated-types>=0.6.0 in c:\\users\\ky805\\downloads\\kapil\\langchain_openai\\venv\\lib\\site-packages (from pydantic) (0.7.0)\n",
      "Requirement already satisfied: pydantic-core==2.33.2 in c:\\users\\ky805\\downloads\\kapil\\langchain_openai\\venv\\lib\\site-packages (from pydantic) (2.33.2)\n",
      "Requirement already satisfied: typing-inspection>=0.4.0 in c:\\users\\ky805\\downloads\\kapil\\langchain_openai\\venv\\lib\\site-packages (from pydantic) (0.4.1)\n",
      "Requirement already satisfied: click>=8.1.8 in c:\\users\\ky805\\downloads\\kapil\\langchain_openai\\venv\\lib\\site-packages (from duckduckgo-search) (8.2.1)\n",
      "Collecting primp>=0.15.0 (from duckduckgo-search)\n",
      "  Downloading primp-0.15.0-cp38-abi3-win_amd64.whl.metadata (13 kB)\n",
      "Collecting lxml>=5.3.0 (from duckduckgo-search)\n",
      "  Downloading lxml-5.4.0-cp313-cp313-win_amd64.whl.metadata (3.6 kB)\n",
      "Requirement already satisfied: aiohappyeyeballs>=2.5.0 in c:\\users\\ky805\\downloads\\kapil\\langchain_openai\\venv\\lib\\site-packages (from aiohttp<4.0.0,>=3.8.3->langchain-community) (2.6.1)\n",
      "Requirement already satisfied: aiosignal>=1.1.2 in c:\\users\\ky805\\downloads\\kapil\\langchain_openai\\venv\\lib\\site-packages (from aiohttp<4.0.0,>=3.8.3->langchain-community) (1.3.2)\n",
      "Requirement already satisfied: attrs>=17.3.0 in c:\\users\\ky805\\downloads\\kapil\\langchain_openai\\venv\\lib\\site-packages (from aiohttp<4.0.0,>=3.8.3->langchain-community) (25.3.0)\n",
      "Requirement already satisfied: frozenlist>=1.1.1 in c:\\users\\ky805\\downloads\\kapil\\langchain_openai\\venv\\lib\\site-packages (from aiohttp<4.0.0,>=3.8.3->langchain-community) (1.6.0)\n",
      "Requirement already satisfied: multidict<7.0,>=4.5 in c:\\users\\ky805\\downloads\\kapil\\langchain_openai\\venv\\lib\\site-packages (from aiohttp<4.0.0,>=3.8.3->langchain-community) (6.4.4)\n",
      "Requirement already satisfied: propcache>=0.2.0 in c:\\users\\ky805\\downloads\\kapil\\langchain_openai\\venv\\lib\\site-packages (from aiohttp<4.0.0,>=3.8.3->langchain-community) (0.3.1)\n",
      "Requirement already satisfied: yarl<2.0,>=1.17.0 in c:\\users\\ky805\\downloads\\kapil\\langchain_openai\\venv\\lib\\site-packages (from aiohttp<4.0.0,>=3.8.3->langchain-community) (1.20.0)\n",
      "Requirement already satisfied: colorama in c:\\users\\ky805\\downloads\\kapil\\langchain_openai\\venv\\lib\\site-packages (from click>=8.1.8->duckduckgo-search) (0.4.6)\n",
      "Requirement already satisfied: marshmallow<4.0.0,>=3.18.0 in c:\\users\\ky805\\downloads\\kapil\\langchain_openai\\venv\\lib\\site-packages (from dataclasses-json<0.7,>=0.5.7->langchain-community) (3.26.1)\n",
      "Requirement already satisfied: typing-inspect<1,>=0.4.0 in c:\\users\\ky805\\downloads\\kapil\\langchain_openai\\venv\\lib\\site-packages (from dataclasses-json<0.7,>=0.5.7->langchain-community) (0.9.0)\n",
      "Requirement already satisfied: jsonpointer>=1.9 in c:\\users\\ky805\\downloads\\kapil\\langchain_openai\\venv\\lib\\site-packages (from jsonpatch<2.0,>=1.33->langchain-core) (3.0.0)\n",
      "Requirement already satisfied: httpx<1,>=0.23.0 in c:\\users\\ky805\\downloads\\kapil\\langchain_openai\\venv\\lib\\site-packages (from langsmith<0.4,>=0.1.17->langchain) (0.28.1)\n",
      "Requirement already satisfied: orjson<4.0.0,>=3.9.14 in c:\\users\\ky805\\downloads\\kapil\\langchain_openai\\venv\\lib\\site-packages (from langsmith<0.4,>=0.1.17->langchain) (3.10.18)\n",
      "Requirement already satisfied: requests-toolbelt<2.0.0,>=1.0.0 in c:\\users\\ky805\\downloads\\kapil\\langchain_openai\\venv\\lib\\site-packages (from langsmith<0.4,>=0.1.17->langchain) (1.0.0)\n",
      "Requirement already satisfied: zstandard<0.24.0,>=0.23.0 in c:\\users\\ky805\\downloads\\kapil\\langchain_openai\\venv\\lib\\site-packages (from langsmith<0.4,>=0.1.17->langchain) (0.23.0)\n",
      "Requirement already satisfied: python-dotenv>=0.21.0 in c:\\users\\ky805\\downloads\\kapil\\langchain_openai\\venv\\lib\\site-packages (from pydantic-settings<3.0.0,>=2.4.0->langchain-community) (1.1.0)\n",
      "Requirement already satisfied: charset-normalizer<4,>=2 in c:\\users\\ky805\\downloads\\kapil\\langchain_openai\\venv\\lib\\site-packages (from requests<3,>=2->langchain) (3.4.2)\n",
      "Requirement already satisfied: idna<4,>=2.5 in c:\\users\\ky805\\downloads\\kapil\\langchain_openai\\venv\\lib\\site-packages (from requests<3,>=2->langchain) (3.10)\n",
      "Requirement already satisfied: urllib3<3,>=1.21.1 in c:\\users\\ky805\\downloads\\kapil\\langchain_openai\\venv\\lib\\site-packages (from requests<3,>=2->langchain) (2.4.0)\n",
      "Requirement already satisfied: certifi>=2017.4.17 in c:\\users\\ky805\\downloads\\kapil\\langchain_openai\\venv\\lib\\site-packages (from requests<3,>=2->langchain) (2025.4.26)\n",
      "Requirement already satisfied: greenlet>=1 in c:\\users\\ky805\\downloads\\kapil\\langchain_openai\\venv\\lib\\site-packages (from SQLAlchemy<3,>=1.4->langchain) (3.2.2)\n",
      "Requirement already satisfied: anyio in c:\\users\\ky805\\downloads\\kapil\\langchain_openai\\venv\\lib\\site-packages (from httpx<1,>=0.23.0->langsmith<0.4,>=0.1.17->langchain) (4.9.0)\n",
      "Requirement already satisfied: httpcore==1.* in c:\\users\\ky805\\downloads\\kapil\\langchain_openai\\venv\\lib\\site-packages (from httpx<1,>=0.23.0->langsmith<0.4,>=0.1.17->langchain) (1.0.9)\n",
      "Requirement already satisfied: h11>=0.16 in c:\\users\\ky805\\downloads\\kapil\\langchain_openai\\venv\\lib\\site-packages (from httpcore==1.*->httpx<1,>=0.23.0->langsmith<0.4,>=0.1.17->langchain) (0.16.0)\n",
      "Requirement already satisfied: mypy-extensions>=0.3.0 in c:\\users\\ky805\\downloads\\kapil\\langchain_openai\\venv\\lib\\site-packages (from typing-inspect<1,>=0.4.0->dataclasses-json<0.7,>=0.5.7->langchain-community) (1.1.0)\n",
      "Requirement already satisfied: sniffio>=1.1 in c:\\users\\ky805\\downloads\\kapil\\langchain_openai\\venv\\lib\\site-packages (from anyio->httpx<1,>=0.23.0->langsmith<0.4,>=0.1.17->langchain) (1.3.1)\n",
      "Downloading duckduckgo_search-8.0.2-py3-none-any.whl (18 kB)\n",
      "Downloading lxml-5.4.0-cp313-cp313-win_amd64.whl (3.8 MB)\n",
      "   ---------------------------------------- 0.0/3.8 MB ? eta -:--:--\n",
      "   ---------------------------------------- 0.0/3.8 MB ? eta -:--:--\n",
      "   -- ------------------------------------- 0.3/3.8 MB ? eta -:--:--\n",
      "   ----- ---------------------------------- 0.5/3.8 MB 882.2 kB/s eta 0:00:04\n",
      "   ----- ---------------------------------- 0.5/3.8 MB 882.2 kB/s eta 0:00:04\n",
      "   -------- ------------------------------- 0.8/3.8 MB 877.6 kB/s eta 0:00:04\n",
      "   ---------- ----------------------------- 1.0/3.8 MB 867.4 kB/s eta 0:00:04\n",
      "   ---------- ----------------------------- 1.0/3.8 MB 867.4 kB/s eta 0:00:04\n",
      "   ------------- -------------------------- 1.3/3.8 MB 889.3 kB/s eta 0:00:03\n",
      "   ---------------- ----------------------- 1.6/3.8 MB 878.6 kB/s eta 0:00:03\n",
      "   ------------------- -------------------- 1.8/3.8 MB 911.2 kB/s eta 0:00:03\n",
      "   --------------------- ------------------ 2.1/3.8 MB 934.8 kB/s eta 0:00:02\n",
      "   --------------------- ------------------ 2.1/3.8 MB 934.8 kB/s eta 0:00:02\n",
      "   --------------------------- ------------ 2.6/3.8 MB 983.0 kB/s eta 0:00:02\n",
      "   --------------------------- ------------ 2.6/3.8 MB 983.0 kB/s eta 0:00:02\n",
      "   ------------------------------ --------- 2.9/3.8 MB 996.0 kB/s eta 0:00:01\n",
      "   ----------------------------------- ---- 3.4/3.8 MB 1.0 MB/s eta 0:00:01\n",
      "   -------------------------------------- - 3.7/3.8 MB 1.1 MB/s eta 0:00:01\n",
      "   ---------------------------------------- 3.8/3.8 MB 1.1 MB/s eta 0:00:00\n",
      "Downloading primp-0.15.0-cp38-abi3-win_amd64.whl (3.1 MB)\n",
      "   ---------------------------------------- 0.0/3.1 MB ? eta -:--:--\n",
      "   --- ------------------------------------ 0.3/3.1 MB ? eta -:--:--\n",
      "   ------ --------------------------------- 0.5/3.1 MB 1.7 MB/s eta 0:00:02\n",
      "   --------- ------------------------------ 0.8/3.1 MB 1.6 MB/s eta 0:00:02\n",
      "   ---------------- ----------------------- 1.3/3.1 MB 1.6 MB/s eta 0:00:02\n",
      "   ------------------- -------------------- 1.6/3.1 MB 1.6 MB/s eta 0:00:01\n",
      "   ----------------------- ---------------- 1.8/3.1 MB 1.6 MB/s eta 0:00:01\n",
      "   ----------------------------- ---------- 2.4/3.1 MB 1.7 MB/s eta 0:00:01\n",
      "   --------------------------------- ------ 2.6/3.1 MB 1.7 MB/s eta 0:00:01\n",
      "   ---------------------------------------  3.1/3.1 MB 1.7 MB/s eta 0:00:01\n",
      "   ---------------------------------------- 3.1/3.1 MB 1.7 MB/s eta 0:00:00\n",
      "Installing collected packages: primp, lxml, duckduckgo-search\n",
      "Successfully installed duckduckgo-search-8.0.2 lxml-5.4.0 primp-0.15.0\n",
      "Note: you may need to restart the kernel to use updated packages.\n"
     ]
    },
    {
     "name": "stderr",
     "output_type": "stream",
     "text": [
      "\n",
      "[notice] A new release of pip is available: 25.0.1 -> 25.1.1\n",
      "[notice] To update, run: python.exe -m pip install --upgrade pip\n"
     ]
    }
   ],
   "source": [
    "pip install langchain langchain-core langchain-community pydantic duckduckgo-search langchain_experimental"
   ]
  },
  {
   "cell_type": "code",
   "execution_count": 2,
   "id": "bd5721fa",
   "metadata": {},
   "outputs": [],
   "source": [
    "from dotenv import load_dotenv"
   ]
  },
  {
   "cell_type": "code",
   "execution_count": 3,
   "id": "31917598",
   "metadata": {},
   "outputs": [
    {
     "data": {
      "text/plain": [
       "True"
      ]
     },
     "execution_count": 3,
     "metadata": {},
     "output_type": "execute_result"
    }
   ],
   "source": [
    "load_dotenv()"
   ]
  },
  {
   "cell_type": "code",
   "execution_count": 5,
   "id": "d5276b40",
   "metadata": {},
   "outputs": [
    {
     "name": "stdout",
     "output_type": "stream",
     "text": [
      "Get the latest breaking news across the U.S. on ABCNews.com NPR news, audio, and podcasts. Coverage of breaking stories, national and world news, politics, business, science, technology, and extended coverage of major national and world events. Discover the latest breaking news videos from Fox News. From politics to entertainment Fox News has the most up-to-date videos that you can watch now. Get latest United States News based on politics, crime, entertainment, sports, lifestyle, technology and many more at NDTV. Read US latest news here. The US House of Representatives has passed a wide-ranging tax and spending bill backed by President Trump The legislation, which passed with a vote of 215-214, still needs Senate approval - and ...\n"
     ]
    }
   ],
   "source": [
    "from langchain_community.tools import DuckDuckGoSearchRun\n",
    "\n",
    "search_tool = DuckDuckGoSearchRun()\n",
    "\n",
    "results = search_tool.invoke('tell me News In USA today.')\n",
    "\n",
    "print(results)"
   ]
  },
  {
   "cell_type": "code",
   "execution_count": 6,
   "id": "1a822111",
   "metadata": {},
   "outputs": [
    {
     "name": "stdout",
     "output_type": "stream",
     "text": [
      "duckduckgo_search\n",
      "A wrapper around DuckDuckGo Search. Useful for when you need to answer questions about current events. Input should be a search query.\n",
      "{'query': {'description': 'search query to look up', 'title': 'Query', 'type': 'string'}}\n"
     ]
    }
   ],
   "source": [
    "print(search_tool.name)\n",
    "print(search_tool.description)\n",
    "print(search_tool.args)"
   ]
  }
 ],
 "metadata": {
  "kernelspec": {
   "display_name": "Kapil_env",
   "language": "python",
   "name": "myenv"
  },
  "language_info": {
   "codemirror_mode": {
    "name": "ipython",
    "version": 3
   },
   "file_extension": ".py",
   "mimetype": "text/x-python",
   "name": "python",
   "nbconvert_exporter": "python",
   "pygments_lexer": "ipython3",
   "version": "3.13.3"
  }
 },
 "nbformat": 4,
 "nbformat_minor": 5
}
