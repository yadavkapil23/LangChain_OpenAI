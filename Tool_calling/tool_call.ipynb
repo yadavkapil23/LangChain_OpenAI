{
 "cells": [
  {
   "cell_type": "code",
   "execution_count": 1,
   "id": "d82ef73e",
   "metadata": {},
   "outputs": [
    {
     "name": "stdout",
     "output_type": "stream",
     "text": [
      "Requirement already satisfied: langchain-core in c:\\users\\ky805\\downloads\\kapil\\langchain_openai\\venv\\lib\\site-packages (0.3.61)\n",
      "Requirement already satisfied: requests in c:\\users\\ky805\\downloads\\kapil\\langchain_openai\\venv\\lib\\site-packages (2.32.3)\n",
      "Requirement already satisfied: langsmith<0.4,>=0.1.126 in c:\\users\\ky805\\downloads\\kapil\\langchain_openai\\venv\\lib\\site-packages (from langchain-core) (0.3.42)\n",
      "Requirement already satisfied: tenacity!=8.4.0,<10.0.0,>=8.1.0 in c:\\users\\ky805\\downloads\\kapil\\langchain_openai\\venv\\lib\\site-packages (from langchain-core) (9.1.2)\n",
      "Requirement already satisfied: jsonpatch<2.0,>=1.33 in c:\\users\\ky805\\downloads\\kapil\\langchain_openai\\venv\\lib\\site-packages (from langchain-core) (1.33)\n",
      "Requirement already satisfied: PyYAML>=5.3 in c:\\users\\ky805\\downloads\\kapil\\langchain_openai\\venv\\lib\\site-packages (from langchain-core) (6.0.2)\n",
      "Requirement already satisfied: packaging<25,>=23.2 in c:\\users\\ky805\\downloads\\kapil\\langchain_openai\\venv\\lib\\site-packages (from langchain-core) (24.2)\n",
      "Requirement already satisfied: typing-extensions>=4.7 in c:\\users\\ky805\\downloads\\kapil\\langchain_openai\\venv\\lib\\site-packages (from langchain-core) (4.13.2)\n",
      "Requirement already satisfied: pydantic>=2.7.4 in c:\\users\\ky805\\downloads\\kapil\\langchain_openai\\venv\\lib\\site-packages (from langchain-core) (2.11.5)\n",
      "Requirement already satisfied: charset-normalizer<4,>=2 in c:\\users\\ky805\\downloads\\kapil\\langchain_openai\\venv\\lib\\site-packages (from requests) (3.4.2)\n",
      "Requirement already satisfied: idna<4,>=2.5 in c:\\users\\ky805\\downloads\\kapil\\langchain_openai\\venv\\lib\\site-packages (from requests) (3.10)\n",
      "Requirement already satisfied: urllib3<3,>=1.21.1 in c:\\users\\ky805\\downloads\\kapil\\langchain_openai\\venv\\lib\\site-packages (from requests) (2.4.0)\n",
      "Requirement already satisfied: certifi>=2017.4.17 in c:\\users\\ky805\\downloads\\kapil\\langchain_openai\\venv\\lib\\site-packages (from requests) (2025.4.26)\n",
      "Requirement already satisfied: jsonpointer>=1.9 in c:\\users\\ky805\\downloads\\kapil\\langchain_openai\\venv\\lib\\site-packages (from jsonpatch<2.0,>=1.33->langchain-core) (3.0.0)\n",
      "Requirement already satisfied: httpx<1,>=0.23.0 in c:\\users\\ky805\\downloads\\kapil\\langchain_openai\\venv\\lib\\site-packages (from langsmith<0.4,>=0.1.126->langchain-core) (0.28.1)\n",
      "Requirement already satisfied: orjson<4.0.0,>=3.9.14 in c:\\users\\ky805\\downloads\\kapil\\langchain_openai\\venv\\lib\\site-packages (from langsmith<0.4,>=0.1.126->langchain-core) (3.10.18)\n",
      "Requirement already satisfied: requests-toolbelt<2.0.0,>=1.0.0 in c:\\users\\ky805\\downloads\\kapil\\langchain_openai\\venv\\lib\\site-packages (from langsmith<0.4,>=0.1.126->langchain-core) (1.0.0)\n",
      "Requirement already satisfied: zstandard<0.24.0,>=0.23.0 in c:\\users\\ky805\\downloads\\kapil\\langchain_openai\\venv\\lib\\site-packages (from langsmith<0.4,>=0.1.126->langchain-core) (0.23.0)\n",
      "Requirement already satisfied: annotated-types>=0.6.0 in c:\\users\\ky805\\downloads\\kapil\\langchain_openai\\venv\\lib\\site-packages (from pydantic>=2.7.4->langchain-core) (0.7.0)\n",
      "Requirement already satisfied: pydantic-core==2.33.2 in c:\\users\\ky805\\downloads\\kapil\\langchain_openai\\venv\\lib\\site-packages (from pydantic>=2.7.4->langchain-core) (2.33.2)\n",
      "Requirement already satisfied: typing-inspection>=0.4.0 in c:\\users\\ky805\\downloads\\kapil\\langchain_openai\\venv\\lib\\site-packages (from pydantic>=2.7.4->langchain-core) (0.4.1)\n",
      "Requirement already satisfied: anyio in c:\\users\\ky805\\downloads\\kapil\\langchain_openai\\venv\\lib\\site-packages (from httpx<1,>=0.23.0->langsmith<0.4,>=0.1.126->langchain-core) (4.9.0)\n",
      "Requirement already satisfied: httpcore==1.* in c:\\users\\ky805\\downloads\\kapil\\langchain_openai\\venv\\lib\\site-packages (from httpx<1,>=0.23.0->langsmith<0.4,>=0.1.126->langchain-core) (1.0.9)\n",
      "Requirement already satisfied: h11>=0.16 in c:\\users\\ky805\\downloads\\kapil\\langchain_openai\\venv\\lib\\site-packages (from httpcore==1.*->httpx<1,>=0.23.0->langsmith<0.4,>=0.1.126->langchain-core) (0.16.0)\n",
      "Requirement already satisfied: sniffio>=1.1 in c:\\users\\ky805\\downloads\\kapil\\langchain_openai\\venv\\lib\\site-packages (from anyio->httpx<1,>=0.23.0->langsmith<0.4,>=0.1.126->langchain-core) (1.3.1)\n",
      "Note: you may need to restart the kernel to use updated packages.\n"
     ]
    },
    {
     "name": "stderr",
     "output_type": "stream",
     "text": [
      "\n",
      "[notice] A new release of pip is available: 25.0.1 -> 25.1.1\n",
      "[notice] To update, run: python.exe -m pip install --upgrade pip\n"
     ]
    }
   ],
   "source": [
    "pip install langchain-core requests"
   ]
  },
  {
   "cell_type": "code",
   "execution_count": 3,
   "id": "a0422b3c",
   "metadata": {},
   "outputs": [],
   "source": [
    "from langchain_openai import ChatOpenAI\n",
    "from langchain_core.tools import tool\n",
    "from langchain_core.messages import HumanMessage\n",
    "import requests"
   ]
  },
  {
   "cell_type": "code",
   "execution_count": 4,
   "id": "154cec9a",
   "metadata": {},
   "outputs": [],
   "source": [
    "#tool create \n",
    "@tool\n",
    "def multiply(a:int , b:int) -> int:\n",
    "    \"\"\"Given 2 numbers a and b this tool returns their product.\"\"\"\n",
    "    return a*b"
   ]
  },
  {
   "cell_type": "code",
   "execution_count": 5,
   "id": "afb70f6b",
   "metadata": {},
   "outputs": [
    {
     "name": "stdout",
     "output_type": "stream",
     "text": [
      "12\n"
     ]
    }
   ],
   "source": [
    "print(multiply.invoke({\"a\":3,\"b\":4}))"
   ]
  },
  {
   "cell_type": "code",
   "execution_count": 6,
   "id": "f379ee83",
   "metadata": {},
   "outputs": [
    {
     "data": {
      "text/plain": [
       "'multiply'"
      ]
     },
     "execution_count": 6,
     "metadata": {},
     "output_type": "execute_result"
    }
   ],
   "source": [
    "multiply.name"
   ]
  },
  {
   "cell_type": "code",
   "execution_count": 7,
   "id": "2a9a72ec",
   "metadata": {},
   "outputs": [
    {
     "data": {
      "text/plain": [
       "'Given 2 numbers a and b this tool returns their product.'"
      ]
     },
     "execution_count": 7,
     "metadata": {},
     "output_type": "execute_result"
    }
   ],
   "source": [
    "multiply.description"
   ]
  },
  {
   "cell_type": "code",
   "execution_count": 8,
   "id": "225dad42",
   "metadata": {},
   "outputs": [
    {
     "data": {
      "text/plain": [
       "{'a': {'title': 'A', 'type': 'integer'},\n",
       " 'b': {'title': 'B', 'type': 'integer'}}"
      ]
     },
     "execution_count": 8,
     "metadata": {},
     "output_type": "execute_result"
    }
   ],
   "source": [
    "multiply.args"
   ]
  },
  {
   "cell_type": "markdown",
   "id": "631421f8",
   "metadata": {},
   "source": [
    "NOW GOING FOR TOOL BINDING , FOR THAT WE NEED LLM"
   ]
  },
  {
   "cell_type": "code",
   "execution_count": 9,
   "id": "65dda25d",
   "metadata": {},
   "outputs": [],
   "source": [
    "from dotenv import load_dotenv"
   ]
  },
  {
   "cell_type": "code",
   "execution_count": 10,
   "id": "17999fe4",
   "metadata": {},
   "outputs": [
    {
     "data": {
      "text/plain": [
       "True"
      ]
     },
     "execution_count": 10,
     "metadata": {},
     "output_type": "execute_result"
    }
   ],
   "source": [
    "load_dotenv()"
   ]
  },
  {
   "cell_type": "code",
   "execution_count": 11,
   "id": "a07e249b",
   "metadata": {},
   "outputs": [],
   "source": [
    "#creating LLM\n",
    "llm = ChatOpenAI()"
   ]
  },
  {
   "cell_type": "code",
   "execution_count": 12,
   "id": "84aee30d",
   "metadata": {},
   "outputs": [],
   "source": [
    "llm_with_tools = llm.bind_tools([multiply])"
   ]
  },
  {
   "cell_type": "code",
   "execution_count": 13,
   "id": "289a7b33",
   "metadata": {},
   "outputs": [
    {
     "data": {
      "text/plain": [
       "AIMessage(content=\"Hello! I'm here and ready to assist you with any questions or tasks you have. How can I help you today?\", additional_kwargs={'refusal': None}, response_metadata={'token_usage': {'completion_tokens': 26, 'prompt_tokens': 59, 'total_tokens': 85, 'completion_tokens_details': {'accepted_prediction_tokens': 0, 'audio_tokens': 0, 'reasoning_tokens': 0, 'rejected_prediction_tokens': 0}, 'prompt_tokens_details': {'audio_tokens': 0, 'cached_tokens': 0}}, 'model_name': 'gpt-3.5-turbo-0125', 'system_fingerprint': None, 'id': 'chatcmpl-BdE8UkjtxjiiERkSFMQOXMK3qdSoD', 'service_tier': 'default', 'finish_reason': 'stop', 'logprobs': None}, id='run--af712691-88b7-4fdb-9454-4a6884030bdf-0', usage_metadata={'input_tokens': 59, 'output_tokens': 26, 'total_tokens': 85, 'input_token_details': {'audio': 0, 'cache_read': 0}, 'output_token_details': {'audio': 0, 'reasoning': 0}})"
      ]
     },
     "execution_count": 13,
     "metadata": {},
     "output_type": "execute_result"
    }
   ],
   "source": [
    "llm_with_tools.invoke(\"Hi How are you ?\")\n",
    "#for this query the LLM thought , it didn't require any tool"
   ]
  },
  {
   "cell_type": "code",
   "execution_count": 21,
   "id": "498de865",
   "metadata": {},
   "outputs": [],
   "source": [
    "x = llm_with_tools.invoke(\"can you tell me what is result when we multiply 3 with 4?\")"
   ]
  },
  {
   "cell_type": "code",
   "execution_count": 23,
   "id": "524b3271",
   "metadata": {},
   "outputs": [
    {
     "data": {
      "text/plain": [
       "[{'name': 'multiply',\n",
       "  'args': {'a': 3, 'b': 4},\n",
       "  'id': 'call_eRlx3OE9dkILyKMULAckJKXH',\n",
       "  'type': 'tool_call'}]"
      ]
     },
     "execution_count": 23,
     "metadata": {},
     "output_type": "execute_result"
    }
   ],
   "source": [
    "llm_with_tools.invoke(\"can you tell me what is result when we multiply 3 with 4?\").tool_calls"
   ]
  },
  {
   "cell_type": "code",
   "execution_count": 24,
   "id": "360bdb70",
   "metadata": {},
   "outputs": [
    {
     "data": {
      "text/plain": [
       "{'name': 'multiply',\n",
       " 'args': {'a': 3, 'b': 4},\n",
       " 'id': 'call_APKUODBx1qqmocU1gkVvWeRg',\n",
       " 'type': 'tool_call'}"
      ]
     },
     "execution_count": 24,
     "metadata": {},
     "output_type": "execute_result"
    }
   ],
   "source": [
    "llm_with_tools.invoke(\"can you tell me what is result when we multiply 3 with 4?\").tool_calls[0]"
   ]
  },
  {
   "cell_type": "code",
   "execution_count": 25,
   "id": "e48f62e2",
   "metadata": {},
   "outputs": [
    {
     "data": {
      "text/plain": [
       "{'name': 'multiply',\n",
       " 'args': {'a': 3, 'b': 4},\n",
       " 'id': 'call_VoezhOl0t1BRJ2SYgoeHG4Bx',\n",
       " 'type': 'tool_call'}"
      ]
     },
     "execution_count": 25,
     "metadata": {},
     "output_type": "execute_result"
    }
   ],
   "source": [
    "x.tool_calls[0]"
   ]
  },
  {
   "cell_type": "code",
   "execution_count": 28,
   "id": "86ab19bc",
   "metadata": {},
   "outputs": [
    {
     "data": {
      "text/plain": [
       "{'a': 3, 'b': 4}"
      ]
     },
     "execution_count": 28,
     "metadata": {},
     "output_type": "execute_result"
    }
   ],
   "source": [
    "x.tool_calls[0]['args']"
   ]
  },
  {
   "cell_type": "code",
   "execution_count": 29,
   "id": "1cf0b790",
   "metadata": {},
   "outputs": [
    {
     "data": {
      "text/plain": [
       "12"
      ]
     },
     "execution_count": 29,
     "metadata": {},
     "output_type": "execute_result"
    }
   ],
   "source": [
    "multiply.invoke(x.tool_calls[0]['args'])"
   ]
  },
  {
   "cell_type": "code",
   "execution_count": null,
   "id": "fa7e2ca2",
   "metadata": {},
   "outputs": [],
   "source": []
  }
 ],
 "metadata": {
  "kernelspec": {
   "display_name": "Kapil_env",
   "language": "python",
   "name": "myenv"
  },
  "language_info": {
   "codemirror_mode": {
    "name": "ipython",
    "version": 3
   },
   "file_extension": ".py",
   "mimetype": "text/x-python",
   "name": "python",
   "nbconvert_exporter": "python",
   "pygments_lexer": "ipython3",
   "version": "3.13.3"
  }
 },
 "nbformat": 4,
 "nbformat_minor": 5
}
