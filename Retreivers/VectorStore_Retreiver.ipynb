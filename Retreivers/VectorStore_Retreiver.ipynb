{
 "cells": [
  {
   "cell_type": "code",
   "execution_count": 1,
   "id": "a5e97f08",
   "metadata": {},
   "outputs": [],
   "source": [
    "from dotenv import load_dotenv\n",
    "from langchain.vectorstores import Chroma\n",
    "from langchain.schema import Document\n",
    "from langchain_openai import OpenAIEmbeddings"
   ]
  },
  {
   "cell_type": "code",
   "execution_count": 2,
   "id": "cb63517b",
   "metadata": {},
   "outputs": [
    {
     "data": {
      "text/plain": [
       "True"
      ]
     },
     "execution_count": 2,
     "metadata": {},
     "output_type": "execute_result"
    }
   ],
   "source": [
    "load_dotenv()"
   ]
  },
  {
   "cell_type": "code",
   "execution_count": 3,
   "id": "71f2f586",
   "metadata": {},
   "outputs": [],
   "source": [
    "# Step 1: Your source documents\n",
    "documents = [\n",
    "    Document(page_content=\"LangChain helps developers build LLM applications easily.\"),\n",
    "    Document(page_content=\"Chroma is a vector database optimized for LLM-based search.\"),\n",
    "    Document(page_content=\"Embeddings convert text into high-dimensional vectors.\"),\n",
    "    Document(page_content=\"OpenAI provides powerful embedding models.\"),\n",
    "]"
   ]
  },
  {
   "cell_type": "code",
   "execution_count": 4,
   "id": "b270e7be",
   "metadata": {},
   "outputs": [],
   "source": [
    "vector_store = Chroma.from_documents(\n",
    "    embedding=OpenAIEmbeddings(),\n",
    "    documents=documents,\n",
    "    collection_name=\"my_collection\"\n",
    ")"
   ]
  },
  {
   "cell_type": "code",
   "execution_count": null,
   "id": "3d9ee62d",
   "metadata": {},
   "outputs": [],
   "source": [
    "retreiver = vector_store.as_retriever(kwargs={\"k\":2})\n",
    "#it wraps the vector store ina retreiver object"
   ]
  },
  {
   "cell_type": "code",
   "execution_count": 6,
   "id": "4d41811c",
   "metadata": {},
   "outputs": [],
   "source": [
    "query = \"What is langchain?\"\n",
    "\n",
    "result = retreiver.invoke(query)"
   ]
  },
  {
   "cell_type": "code",
   "execution_count": 7,
   "id": "320c00a0",
   "metadata": {},
   "outputs": [
    {
     "name": "stdout",
     "output_type": "stream",
     "text": [
      "[Document(metadata={}, page_content='LangChain helps developers build LLM applications easily.'), Document(metadata={}, page_content='Chroma is a vector database optimized for LLM-based search.'), Document(metadata={}, page_content='OpenAI provides powerful embedding models.'), Document(metadata={}, page_content='Embeddings convert text into high-dimensional vectors.')]\n"
     ]
    }
   ],
   "source": [
    "print(result)"
   ]
  },
  {
   "cell_type": "code",
   "execution_count": null,
   "id": "14e4b0d2",
   "metadata": {},
   "outputs": [],
   "source": [
    "results = vector_store.similarity_search(query=query,k=2)\n",
    "#directly performs the similarity search on vector store"
   ]
  },
  {
   "cell_type": "code",
   "execution_count": 10,
   "id": "a509c8d1",
   "metadata": {},
   "outputs": [
    {
     "name": "stdout",
     "output_type": "stream",
     "text": [
      "[Document(metadata={}, page_content='LangChain helps developers build LLM applications easily.'), Document(metadata={}, page_content='Chroma is a vector database optimized for LLM-based search.')]\n"
     ]
    }
   ],
   "source": [
    "print(results)"
   ]
  },
  {
   "cell_type": "code",
   "execution_count": 11,
   "id": "1393d9b1",
   "metadata": {},
   "outputs": [
    {
     "name": "stdout",
     "output_type": "stream",
     "text": [
      "1 : \n",
      "Result : LangChain helps developers build LLM applications easily.\n",
      "2 : \n",
      "Result : Chroma is a vector database optimized for LLM-based search.\n"
     ]
    }
   ],
   "source": [
    "for i,doc in enumerate(result):\n",
    "    print(f\"{i+1} : \")\n",
    "    print(f\"Result : {doc.page_content}\")"
   ]
  },
  {
   "cell_type": "code",
   "execution_count": null,
   "id": "9ab3c32b",
   "metadata": {},
   "outputs": [],
   "source": []
  }
 ],
 "metadata": {
  "kernelspec": {
   "display_name": "Kapil_env",
   "language": "python",
   "name": "myenv"
  },
  "language_info": {
   "codemirror_mode": {
    "name": "ipython",
    "version": 3
   },
   "file_extension": ".py",
   "mimetype": "text/x-python",
   "name": "python",
   "nbconvert_exporter": "python",
   "pygments_lexer": "ipython3",
   "version": "3.13.3"
  }
 },
 "nbformat": 4,
 "nbformat_minor": 5
}
