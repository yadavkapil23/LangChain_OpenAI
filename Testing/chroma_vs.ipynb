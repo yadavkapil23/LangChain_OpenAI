{
 "cells": [
  {
   "cell_type": "code",
   "execution_count": 1,
   "id": "c0a2ea09",
   "metadata": {},
   "outputs": [],
   "source": [
    "from langchain.vectorstores import Chroma\n",
    "from dotenv import load_dotenv\n",
    "from langchain_openai import OpenAIEmbeddings"
   ]
  },
  {
   "cell_type": "code",
   "execution_count": 2,
   "id": "2ed1f8c3",
   "metadata": {},
   "outputs": [
    {
     "data": {
      "text/plain": [
       "True"
      ]
     },
     "execution_count": 2,
     "metadata": {},
     "output_type": "execute_result"
    }
   ],
   "source": [
    "load_dotenv()"
   ]
  },
  {
   "cell_type": "code",
   "execution_count": 3,
   "id": "efa77337",
   "metadata": {},
   "outputs": [],
   "source": [
    "from langchain.schema import Document"
   ]
  },
  {
   "cell_type": "markdown",
   "id": "76c1c734",
   "metadata": {},
   "source": [
    " Langchain me textual data ko handle krne k liye document object ka format bnayenge"
   ]
  },
  {
   "cell_type": "code",
   "execution_count": 5,
   "id": "92b0b469",
   "metadata": {},
   "outputs": [],
   "source": [
    "from langchain.schema import Document"
   ]
  },
  {
   "cell_type": "markdown",
   "id": "be1289e5",
   "metadata": {},
   "source": [
    "Doc object me do chizen hoti hain : page-content and meta-data \n",
    "Page Content - Jo b data hota h , vo likhte h\n",
    "Meta Data - Page content k data se jo b related data hota h vo likhte h"
   ]
  },
  {
   "cell_type": "code",
   "execution_count": 6,
   "id": "f842fcb0",
   "metadata": {},
   "outputs": [],
   "source": [
    "doc1 = Document(\n",
    "    page_content=\"Virat Kohli is an Indian Cricket Player , who plays all three formats for India.He's known for his aggressive batting style. He has various records like most runs in World Cups and many more.\",\n",
    "    metadata={\"team\" : \"Royal Challengers Bengaluru\"}\n",
    ")\n",
    "\n",
    "doc2 = Document(\n",
    "    page_content=\"MS Dhoni is a former Indian Cricket Captain, known for his calm demeanor and finishing abilities. He led India to victories in the T20 World Cup, ODI World Cup, and Champions Trophy.\",\n",
    "    metadata={\"team\": \"Chennai Super Kings\"}\n",
    ")\n",
    "\n",
    "doc3 = Document(\n",
    "    page_content=\"Rohit Sharma is an Indian Cricket Player, known for his elegant stroke play and multiple double centuries in ODIs. He is also the captain of the Indian national team in limited overs.\",\n",
    "    metadata={\"team\": \"Mumbai Indians\"}\n",
    ")\n",
    "\n",
    "doc4 = Document(\n",
    "    page_content=\"Jasprit Bumrah is a premier Indian fast bowler, famous for his unique action and deadly yorkers. He has been crucial in many of India's overseas victories.\",\n",
    "    metadata={\"team\": \"Mumbai Indians\"}\n",
    ")\n",
    "\n",
    "doc5 = Document(\n",
    "    page_content=\"Steve Smith is an Australian cricketer renowned for his unorthodox batting technique and high batting average in Tests. He has captained Australia in all formats.\",\n",
    "    metadata={\"team\": \"Sydney Sixers\"}\n",
    ")\n",
    "\n",
    "doc6 = Document(\n",
    "    page_content=\"Ben Stokes is an English all-rounder celebrated for his match-winning performances, including the 2019 World Cup Final and the Headingley Test against Australia.\",\n",
    "    metadata={\"team\": \"Rajasthan Royals\"}\n",
    ")\n"
   ]
  },
  {
   "cell_type": "code",
   "execution_count": 7,
   "id": "e0cc5412",
   "metadata": {},
   "outputs": [],
   "source": [
    "#ab in sb doc objects ko ek list me store kr denge\n",
    "docs = [doc1,doc2,doc3,doc4,doc5,doc6]"
   ]
  },
  {
   "cell_type": "code",
   "execution_count": 8,
   "id": "32e99843",
   "metadata": {},
   "outputs": [
    {
     "name": "stderr",
     "output_type": "stream",
     "text": [
      "C:\\Users\\ky805\\AppData\\Local\\Temp\\ipykernel_21312\\703011889.py:2: LangChainDeprecationWarning: The class `Chroma` was deprecated in LangChain 0.2.9 and will be removed in 1.0. An updated version of the class exists in the :class:`~langchain-chroma package and should be used instead. To use it run `pip install -U :class:`~langchain-chroma` and import as `from :class:`~langchain_chroma import Chroma``.\n",
      "  vector_store = Chroma(\n"
     ]
    }
   ],
   "source": [
    "#now making our vector store\n",
    "vector_store = Chroma(\n",
    "    embedding_function=OpenAIEmbeddings(),\n",
    "    persist_directory=\"testing_chroma_database\", #ye hmare store k liye location hogi\n",
    "    collection_name=\"samples\" #chroma db me ham collections bnate h , to ham ek collection bna rahe h , jiska naam h sample.\n",
    ")"
   ]
  },
  {
   "cell_type": "code",
   "execution_count": 9,
   "id": "c44f1e64",
   "metadata": {},
   "outputs": [
    {
     "data": {
      "text/plain": [
       "['ec7160df-68b0-4d3f-ab03-6f3ad70bcc4f',\n",
       " 'b39611ce-49f4-4192-903f-54b61643a681',\n",
       " '97c2f0cf-73b5-42d2-9d6d-e4751999cc8d',\n",
       " '60114c7e-07b8-4216-bc62-cb96e0ccf861',\n",
       " 'bd466d73-0630-45e6-9059-936a3cdb9e25',\n",
       " '86ea766a-0fa4-4802-af94-34da9a49d8d4']"
      ]
     },
     "execution_count": 9,
     "metadata": {},
     "output_type": "execute_result"
    }
   ],
   "source": [
    "#now adding documents to add docs in vector store\n",
    "vector_store.add_documents(docs)"
   ]
  },
  {
   "cell_type": "code",
   "execution_count": null,
   "id": "46431abb",
   "metadata": {},
   "outputs": [
    {
     "data": {
      "text/plain": [
       "{'ids': ['ec7160df-68b0-4d3f-ab03-6f3ad70bcc4f',\n",
       "  'b39611ce-49f4-4192-903f-54b61643a681',\n",
       "  '97c2f0cf-73b5-42d2-9d6d-e4751999cc8d',\n",
       "  '60114c7e-07b8-4216-bc62-cb96e0ccf861',\n",
       "  'bd466d73-0630-45e6-9059-936a3cdb9e25',\n",
       "  '86ea766a-0fa4-4802-af94-34da9a49d8d4'],\n",
       " 'embeddings': array([[-0.01620594,  0.00685929,  0.01112969, ..., -0.01224647,\n",
       "         -0.01036825, -0.00348358],\n",
       "        [-0.00556227,  0.00677539,  0.00857571, ..., -0.02476566,\n",
       "          0.00555582, -0.00704641],\n",
       "        [-0.00896151,  0.00525524,  0.00488211, ..., -0.00729338,\n",
       "          0.00221529, -0.0159037 ],\n",
       "        [-0.04304702,  0.01115963,  0.02453963, ..., -0.03000714,\n",
       "          0.00584613, -0.01757048],\n",
       "        [-0.01241837,  0.01651535, -0.00150929, ...,  0.00132849,\n",
       "          0.00861449,  0.0061168 ],\n",
       "        [-0.01486893,  0.00173761,  0.01510126, ..., -0.02364573,\n",
       "          0.00298153, -0.00418511]], shape=(6, 1536)),\n",
       " 'documents': [\"Virat Kohli is an Indian Cricket Player , who plays all three formats for India.He's known for his aggressive batting style. He has various records like most runs in World Cups and many more.\",\n",
       "  'MS Dhoni is a former Indian Cricket Captain, known for his calm demeanor and finishing abilities. He led India to victories in the T20 World Cup, ODI World Cup, and Champions Trophy.',\n",
       "  'Rohit Sharma is an Indian Cricket Player, known for his elegant stroke play and multiple double centuries in ODIs. He is also the captain of the Indian national team in limited overs.',\n",
       "  \"Jasprit Bumrah is a premier Indian fast bowler, famous for his unique action and deadly yorkers. He has been crucial in many of India's overseas victories.\",\n",
       "  'Steve Smith is an Australian cricketer renowned for his unorthodox batting technique and high batting average in Tests. He has captained Australia in all formats.',\n",
       "  'Ben Stokes is an English all-rounder celebrated for his match-winning performances, including the 2019 World Cup Final and the Headingley Test against Australia.'],\n",
       " 'uris': None,\n",
       " 'included': ['embeddings', 'documents', 'metadatas'],\n",
       " 'data': None,\n",
       " 'metadatas': [{'team': 'Royal Challengers Bengaluru'},\n",
       "  {'team': 'Chennai Super Kings'},\n",
       "  {'team': 'Mumbai Indians'},\n",
       "  {'team': 'Mumbai Indians'},\n",
       "  {'team': 'Sydney Sixers'},\n",
       "  {'team': 'Rajasthan Royals'}]}"
      ]
     },
     "execution_count": 11,
     "metadata": {},
     "output_type": "execute_result"
    }
   ],
   "source": [
    "vector_store.get(include=[\"embeddings\",\"documents\",\"metadatas\"])\n",
    "#used to retrevice data from the langchain vector store , it retreives the embeddings , documents , metadatas"
   ]
  },
  {
   "cell_type": "code",
   "execution_count": 12,
   "id": "4f183643",
   "metadata": {},
   "outputs": [
    {
     "data": {
      "text/plain": [
       "[Document(metadata={'team': 'Mumbai Indians'}, page_content=\"Jasprit Bumrah is a premier Indian fast bowler, famous for his unique action and deadly yorkers. He has been crucial in many of India's overseas victories.\"),\n",
       " Document(metadata={'team': 'Rajasthan Royals'}, page_content='Ben Stokes is an English all-rounder celebrated for his match-winning performances, including the 2019 World Cup Final and the Headingley Test against Australia.'),\n",
       " Document(metadata={'team': 'Mumbai Indians'}, page_content='Rohit Sharma is an Indian Cricket Player, known for his elegant stroke play and multiple double centuries in ODIs. He is also the captain of the Indian national team in limited overs.')]"
      ]
     },
     "execution_count": 12,
     "metadata": {},
     "output_type": "execute_result"
    }
   ],
   "source": [
    "#NOW WE'LL DO SEARCHING \n",
    "vector_store.similarity_search(\n",
    "    query=\"Who is the bowler among these ?\",\n",
    "    k=3 #kitne similar objects ko result me dikhana chahte ho\n",
    ")"
   ]
  },
  {
   "cell_type": "code",
   "execution_count": 13,
   "id": "e6508140",
   "metadata": {},
   "outputs": [
    {
     "data": {
      "text/plain": [
       "[(Document(metadata={'team': 'Royal Challengers Bengaluru'}, page_content=\"Virat Kohli is an Indian Cricket Player , who plays all three formats for India.He's known for his aggressive batting style. He has various records like most runs in World Cups and many more.\"),\n",
       "  0.36680400371551514),\n",
       " (Document(metadata={'team': 'Sydney Sixers'}, page_content='Steve Smith is an Australian cricketer renowned for his unorthodox batting technique and high batting average in Tests. He has captained Australia in all formats.'),\n",
       "  0.37410837411880493),\n",
       " (Document(metadata={'team': 'Mumbai Indians'}, page_content=\"Jasprit Bumrah is a premier Indian fast bowler, famous for his unique action and deadly yorkers. He has been crucial in many of India's overseas victories.\"),\n",
       "  0.3742135167121887)]"
      ]
     },
     "execution_count": 13,
     "metadata": {},
     "output_type": "execute_result"
    }
   ],
   "source": [
    "#we can also see the similarity score along with the search\n",
    "vector_store.similarity_search_with_score(\n",
    "    query=\"Who is the batsman among these ?\",\n",
    "    k=3\n",
    ")"
   ]
  },
  {
   "cell_type": "code",
   "execution_count": 14,
   "id": "f85bc53c",
   "metadata": {},
   "outputs": [
    {
     "data": {
      "text/plain": [
       "[Document(metadata={'team': 'Mumbai Indians'}, page_content=\"Jasprit Bumrah is a premier Indian fast bowler, famous for his unique action and deadly yorkers. He has been crucial in many of India's overseas victories.\"),\n",
       " Document(metadata={'team': 'Mumbai Indians'}, page_content='Rohit Sharma is an Indian Cricket Player, known for his elegant stroke play and multiple double centuries in ODIs. He is also the captain of the Indian national team in limited overs.')]"
      ]
     },
     "execution_count": 14,
     "metadata": {},
     "output_type": "execute_result"
    }
   ],
   "source": [
    "#meta data filtering\n",
    "vector_store.similarity_search(\n",
    "    query=\"\",\n",
    "    filter={\"team\":\"Mumbai Indians\"}\n",
    ")"
   ]
  },
  {
   "cell_type": "code",
   "execution_count": 15,
   "id": "edd0afa6",
   "metadata": {},
   "outputs": [],
   "source": [
    "#now updating the documents\n",
    "updated_doc1 = Document(\n",
    "    page_content=\"Virat Kohli , the former Captain of Team India , and Royal Challengers Bengaluru , is renowned for his leadership and aggressive batting style.\",\n",
    "    metadata={\"team\":\"Royal Challengers Bengaluru\"}\n",
    ")"
   ]
  },
  {
   "cell_type": "code",
   "execution_count": 17,
   "id": "c951fa19",
   "metadata": {},
   "outputs": [],
   "source": [
    "vector_store.update_document(document_id=\"ec7160df-68b0-4d3f-ab03-6f3ad70bcc4f\",document=updated_doc1)"
   ]
  },
  {
   "cell_type": "code",
   "execution_count": 19,
   "id": "46869def",
   "metadata": {},
   "outputs": [
    {
     "data": {
      "text/plain": [
       "{'ids': ['ec7160df-68b0-4d3f-ab03-6f3ad70bcc4f',\n",
       "  'b39611ce-49f4-4192-903f-54b61643a681',\n",
       "  '97c2f0cf-73b5-42d2-9d6d-e4751999cc8d',\n",
       "  '60114c7e-07b8-4216-bc62-cb96e0ccf861',\n",
       "  'bd466d73-0630-45e6-9059-936a3cdb9e25',\n",
       "  '86ea766a-0fa4-4802-af94-34da9a49d8d4'],\n",
       " 'embeddings': array([[-0.0083951 , -0.00915241,  0.011502  , ..., -0.01782584,\n",
       "         -0.00040717,  0.00652449],\n",
       "        [-0.00556227,  0.00677539,  0.00857571, ..., -0.02476566,\n",
       "          0.00555582, -0.00704641],\n",
       "        [-0.00896151,  0.00525524,  0.00488211, ..., -0.00729338,\n",
       "          0.00221529, -0.0159037 ],\n",
       "        [-0.04304702,  0.01115963,  0.02453963, ..., -0.03000714,\n",
       "          0.00584613, -0.01757048],\n",
       "        [-0.01241837,  0.01651535, -0.00150929, ...,  0.00132849,\n",
       "          0.00861449,  0.0061168 ],\n",
       "        [-0.01486893,  0.00173761,  0.01510126, ..., -0.02364573,\n",
       "          0.00298153, -0.00418511]], shape=(6, 1536)),\n",
       " 'documents': ['Virat Kohli , the former Captain of Team India , and Royal Challengers Bengaluru , is renowned for his leadership and aggressive batting style.',\n",
       "  'MS Dhoni is a former Indian Cricket Captain, known for his calm demeanor and finishing abilities. He led India to victories in the T20 World Cup, ODI World Cup, and Champions Trophy.',\n",
       "  'Rohit Sharma is an Indian Cricket Player, known for his elegant stroke play and multiple double centuries in ODIs. He is also the captain of the Indian national team in limited overs.',\n",
       "  \"Jasprit Bumrah is a premier Indian fast bowler, famous for his unique action and deadly yorkers. He has been crucial in many of India's overseas victories.\",\n",
       "  'Steve Smith is an Australian cricketer renowned for his unorthodox batting technique and high batting average in Tests. He has captained Australia in all formats.',\n",
       "  'Ben Stokes is an English all-rounder celebrated for his match-winning performances, including the 2019 World Cup Final and the Headingley Test against Australia.'],\n",
       " 'uris': None,\n",
       " 'included': ['embeddings', 'documents', 'metadatas'],\n",
       " 'data': None,\n",
       " 'metadatas': [{'team': 'Royal Challengers Bengaluru'},\n",
       "  {'team': 'Chennai Super Kings'},\n",
       "  {'team': 'Mumbai Indians'},\n",
       "  {'team': 'Mumbai Indians'},\n",
       "  {'team': 'Sydney Sixers'},\n",
       "  {'team': 'Rajasthan Royals'}]}"
      ]
     },
     "execution_count": 19,
     "metadata": {},
     "output_type": "execute_result"
    }
   ],
   "source": [
    "vector_store.get(include=[\"embeddings\",\"documents\",\"metadatas\"])"
   ]
  },
  {
   "cell_type": "code",
   "execution_count": 20,
   "id": "697623eb",
   "metadata": {},
   "outputs": [],
   "source": [
    "#deleting\n",
    "vector_store.delete(ids=\"ec7160df-68b0-4d3f-ab03-6f3ad70bcc4f\")"
   ]
  },
  {
   "cell_type": "code",
   "execution_count": 21,
   "id": "6a591ed7",
   "metadata": {},
   "outputs": [
    {
     "data": {
      "text/plain": [
       "{'ids': ['b39611ce-49f4-4192-903f-54b61643a681',\n",
       "  '97c2f0cf-73b5-42d2-9d6d-e4751999cc8d',\n",
       "  '60114c7e-07b8-4216-bc62-cb96e0ccf861',\n",
       "  'bd466d73-0630-45e6-9059-936a3cdb9e25',\n",
       "  '86ea766a-0fa4-4802-af94-34da9a49d8d4'],\n",
       " 'embeddings': array([[-0.00556227,  0.00677539,  0.00857571, ..., -0.02476566,\n",
       "          0.00555582, -0.00704641],\n",
       "        [-0.00896151,  0.00525524,  0.00488211, ..., -0.00729338,\n",
       "          0.00221529, -0.0159037 ],\n",
       "        [-0.04304702,  0.01115963,  0.02453963, ..., -0.03000714,\n",
       "          0.00584613, -0.01757048],\n",
       "        [-0.01241837,  0.01651535, -0.00150929, ...,  0.00132849,\n",
       "          0.00861449,  0.0061168 ],\n",
       "        [-0.01486893,  0.00173761,  0.01510126, ..., -0.02364573,\n",
       "          0.00298153, -0.00418511]], shape=(5, 1536)),\n",
       " 'documents': ['MS Dhoni is a former Indian Cricket Captain, known for his calm demeanor and finishing abilities. He led India to victories in the T20 World Cup, ODI World Cup, and Champions Trophy.',\n",
       "  'Rohit Sharma is an Indian Cricket Player, known for his elegant stroke play and multiple double centuries in ODIs. He is also the captain of the Indian national team in limited overs.',\n",
       "  \"Jasprit Bumrah is a premier Indian fast bowler, famous for his unique action and deadly yorkers. He has been crucial in many of India's overseas victories.\",\n",
       "  'Steve Smith is an Australian cricketer renowned for his unorthodox batting technique and high batting average in Tests. He has captained Australia in all formats.',\n",
       "  'Ben Stokes is an English all-rounder celebrated for his match-winning performances, including the 2019 World Cup Final and the Headingley Test against Australia.'],\n",
       " 'uris': None,\n",
       " 'included': ['embeddings', 'documents', 'metadatas'],\n",
       " 'data': None,\n",
       " 'metadatas': [{'team': 'Chennai Super Kings'},\n",
       "  {'team': 'Mumbai Indians'},\n",
       "  {'team': 'Mumbai Indians'},\n",
       "  {'team': 'Sydney Sixers'},\n",
       "  {'team': 'Rajasthan Royals'}]}"
      ]
     },
     "execution_count": 21,
     "metadata": {},
     "output_type": "execute_result"
    }
   ],
   "source": [
    "vector_store.get(include=[\"embeddings\",\"documents\",\"metadatas\"])"
   ]
  },
  {
   "cell_type": "code",
   "execution_count": null,
   "id": "1ce512e3",
   "metadata": {},
   "outputs": [],
   "source": []
  }
 ],
 "metadata": {
  "kernelspec": {
   "display_name": "Kapil_env",
   "language": "python",
   "name": "myenv"
  },
  "language_info": {
   "codemirror_mode": {
    "name": "ipython",
    "version": 3
   },
   "file_extension": ".py",
   "mimetype": "text/x-python",
   "name": "python",
   "nbconvert_exporter": "python",
   "pygments_lexer": "ipython3",
   "version": "3.13.3"
  }
 },
 "nbformat": 4,
 "nbformat_minor": 5
}
