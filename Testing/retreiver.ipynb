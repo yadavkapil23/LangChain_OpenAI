{
 "cells": [
  {
   "cell_type": "code",
   "execution_count": 1,
   "id": "2b1b3bb5",
   "metadata": {},
   "outputs": [],
   "source": [
    "from dotenv import load_dotenv\n",
    "from langchain.retrievers import WikipediaRetriever"
   ]
  },
  {
   "cell_type": "code",
   "execution_count": 2,
   "id": "b32af1c2",
   "metadata": {},
   "outputs": [],
   "source": [
    "retreiver = WikipediaRetriever(top_k_results=3,lang=\"en\")"
   ]
  },
  {
   "cell_type": "code",
   "execution_count": 5,
   "id": "8c812ef9",
   "metadata": {},
   "outputs": [],
   "source": [
    "query = \"NVIDIA's rise in GPU\"\n",
    "\n",
    "result = retreiver.invoke(query)"
   ]
  },
  {
   "cell_type": "code",
   "execution_count": 6,
   "id": "c34da5c2",
   "metadata": {},
   "outputs": [
    {
     "name": "stdout",
     "output_type": "stream",
     "text": [
      "[Document(metadata={'title': 'Nvidia', 'summary': \"Nvidia Corporation ( en-VID-ee-ə) is an American multinational corporation and technology company headquartered in Santa Clara, California, and incorporated in Delaware. Founded in 1993 by Jensen Huang (president and CEO), Chris Malachowsky, and Curtis Priem, it designs and supplies graphics processing units (GPUs), application programming interfaces (APIs) for data science and high-performance computing, and system on a chip units (SoCs) for mobile computing and the automotive market. Nvidia is also a leading supplier of artificial intelligence (AI) hardware and software. Nvidia outsources the manufacturing of the hardware it designs.\\nNvidia's professional line of GPUs are used for edge-to-cloud computing and in supercomputers and workstations for applications in fields such as architecture, engineering and construction, media and entertainment, automotive, scientific research, and manufacturing design. Its GeForce line of GPUs are aimed at the consumer market and are used in applications such as video editing, 3D rendering, and PC gaming. With a market share of 80.2% in the second quarter of 2023, Nvidia leads global sales of discrete desktop GPUs by a wide margin. The company expanded its presence in the gaming industry with the introduction of the Shield Portable (a handheld game console), Shield Tablet (a gaming tablet), and Shield TV (a digital media player), as well as its cloud gaming service GeForce Now.\\nIn addition to GPU design and outsourcing manufacturing, Nvidia provides the CUDA software platform and API that allows the creation of massively parallel programs which utilize GPUs. They are deployed in supercomputing sites around the world. In the late 2000s, Nvidia had moved into the mobile computing market, where it produced Tegra mobile processors for smartphones and tablets and vehicle navigation and entertainment systems. Its competitors include AMD, Intel, Qualcomm, and AI accelerator companies such as Cerebras and Graphcore. It also makes AI-powered software for audio and video processing (e.g., Nvidia Maxine).\\nNvidia's attempt to acquire Arm from SoftBank in September 2020 failed to materialize following extended regulatory scrutiny, leading to the termination of the deal in February 2022 in what would have been the largest semiconductor acquisition. In 2023, Nvidia became the seventh public U.S. company to be valued at over $1 trillion, and the company's valuation has increased rapidly since then amid growing demand for data center chips with AI capabilities in the midst of the AI boom. In June 2024, for one day, Nvidia overtook Microsoft as the world's most valuable publicly traded company, with a market capitalization of over $3.3 trillion.\", 'source': 'https://en.wikipedia.org/wiki/Nvidia'}, page_content='Nvidia Corporation ( en-VID-ee-ə) is an American multinational corporation and technology company headquartered in Santa Clara, California, and incorporated in Delaware. Founded in 1993 by Jensen Huang (president and CEO), Chris Malachowsky, and Curtis Priem, it designs and supplies graphics processing units (GPUs), application programming interfaces (APIs) for data science and high-performance computing, and system on a chip units (SoCs) for mobile computing and the automotive market. Nvidia is also a leading supplier of artificial intelligence (AI) hardware and software. Nvidia outsources the manufacturing of the hardware it designs.\\nNvidia\\'s professional line of GPUs are used for edge-to-cloud computing and in supercomputers and workstations for applications in fields such as architecture, engineering and construction, media and entertainment, automotive, scientific research, and manufacturing design. Its GeForce line of GPUs are aimed at the consumer market and are used in applications such as video editing, 3D rendering, and PC gaming. With a market share of 80.2% in the second quarter of 2023, Nvidia leads global sales of discrete desktop GPUs by a wide margin. The company expanded its presence in the gaming industry with the introduction of the Shield Portable (a handheld game console), Shield Tablet (a gaming tablet), and Shield TV (a digital media player), as well as its cloud gaming service GeForce Now.\\nIn addition to GPU design and outsourcing manufacturing, Nvidia provides the CUDA software platform and API that allows the creation of massively parallel programs which utilize GPUs. They are deployed in supercomputing sites around the world. In the late 2000s, Nvidia had moved into the mobile computing market, where it produced Tegra mobile processors for smartphones and tablets and vehicle navigation and entertainment systems. Its competitors include AMD, Intel, Qualcomm, and AI accelerator companies such as Cerebras and Graphcore. It also makes AI-powered software for audio and video processing (e.g., Nvidia Maxine).\\nNvidia\\'s attempt to acquire Arm from SoftBank in September 2020 failed to materialize following extended regulatory scrutiny, leading to the termination of the deal in February 2022 in what would have been the largest semiconductor acquisition. In 2023, Nvidia became the seventh public U.S. company to be valued at over $1 trillion, and the company\\'s valuation has increased rapidly since then amid growing demand for data center chips with AI capabilities in the midst of the AI boom. In June 2024, for one day, Nvidia overtook Microsoft as the world\\'s most valuable publicly traded company, with a market capitalization of over $3.3 trillion.\\n\\n\\n== History ==\\n\\n\\n=== Founding ===\\n\\nNvidia was founded on April 5, 1993, by Jensen Huang (who, as of 2025, remains CEO), a Taiwanese-American electrical engineer who was previously the director of CoreWare at LSI Logic and a microprocessor designer at AMD; Chris Malachowsky, an engineer who worked at Sun Microsystems; and Curtis Priem, who was previously a senior staff engineer and graphics chip designer at IBM and Sun Microsystems. In late 1992, the three men agreed to start the company in a meeting at a Denny\\'s roadside diner on Berryessa Road in East San Jose. \\nAt the time, Malachowsky and Priem were frustrated with Sun\\'s management and were looking to leave, but Huang was on \"firmer ground\", in that he was already running his own division at LSI. The three co-founders discussed a vision of the future which was so compelling that Huang decided to leave LSI and become the chief executive officer of their new startup.\\nThe three co-founders envisioned  graphics-based processing as the best trajectory for tackling challenges that had eluded general-purpose computing methods. As Huang later explained: \"We also observed that video games were simultaneously one of the most computationally challenging problems and would have incredibly high sales volume. Those two conditio'), Document(metadata={'title': 'GeForce RTX 40 series', 'summary': \"The GeForce RTX 40 series is a family of consumer graphics processing units (GPUs) developed by Nvidia as part of its GeForce line of graphics cards, succeeding the GeForce RTX 30 series. The series was announced on September 20, 2022, at the GPU Technology Conference, and launched on October 12, 2022, starting with its flagship model, the RTX 4090. It was succeeded by the GeForce RTX 50 series, which debuted on January 30, 2025, after being previously announced at CES.\\nThe cards are based on Nvidia's Ada Lovelace architecture and feature Nvidia RTX's third-generation RT cores for hardware-accelerated real-time ray tracing, and fourth-generation deep-learning-focused Tensor Cores.\\n\\n\", 'source': 'https://en.wikipedia.org/wiki/GeForce_RTX_40_series'}, page_content='The GeForce RTX 40 series is a family of consumer graphics processing units (GPUs) developed by Nvidia as part of its GeForce line of graphics cards, succeeding the GeForce RTX 30 series. The series was announced on September 20, 2022, at the GPU Technology Conference, and launched on October 12, 2022, starting with its flagship model, the RTX 4090. It was succeeded by the GeForce RTX 50 series, which debuted on January 30, 2025, after being previously announced at CES.\\nThe cards are based on Nvidia\\'s Ada Lovelace architecture and feature Nvidia RTX\\'s third-generation RT cores for hardware-accelerated real-time ray tracing, and fourth-generation deep-learning-focused Tensor Cores.\\n\\n\\n== Details ==\\nArchitectural highlights of the Ada Lovelace architecture include the following:\\n\\nCUDA Compute Capability 8.9\\nTSMC 4N process (5 nm custom designed for Nvidia) – not to be confused with N4\\nFourth-generation Tensor Cores with FP8, FP16, bfloat16, TensorFloat-32 (TF32) and sparsity acceleration\\nThird-generation Ray Tracing Cores, along with concurrent ray tracing, shading and compute\\nShader Execution Reordering – needs to be enabled by the developer\\nDual NVENC with 8K 10-bit 120FPS AV1 fixed function hardware encoding\\nA new generation of Optical Flow Accelerator to aid DLSS 3.0 intermediate AI-based frame generation\\nNo NVLink support\\nDisplayPort 1.4a and HDMI 2.1 display connections\\nDouble-precision (FP64) performance of Ada Lovelace silicon is 1/64 of single-precision (FP32) performance.\\n\\n\\n== Release ==\\nThe RTX 4090 was released as the first model of the series on October 12, 2022, for $1,599 US, and the 16GB RTX 4080 was released on November 16, 2022, for $1,199 US. An RTX 4080 12GB was announced in September 2022, originally to be priced at $899 US, however following some controversy in the media it was \"unlaunched\" by Nvidia. On January 5, 2023, that model was released as the RTX 4070 Ti for $799 US. The RTX 4070 was then released on April 13, 2023 at $599 US MSRP. The RTX 4060 Ti was released on May 24, 2023, at $399 US, and the RTX 4060 on June 29, 2023, at $299 US. An RTX 4060 Ti 16GB followed on July 18, 2023, at $499 US. On January 8, 2024, Nvidia released the RTX 4070 Super at $599, RTX 4070 Ti Super at $799 and RTX 4080 Super at $999. These video cards were launched at higher specs and lower prices than their original counterparts. In the same vein, the production of the RTX 4080 and RTX 4070 Ti have stopped due to the Super series, but the 4070 will remain. In August 2024, Nvidia, citing the need \"to improve supply and availability\", introduced a variant of the RTX 4070 card with GDDR6 running at 20Gbps while all the other specs remain the same.\\n\\n\\n== Products ==\\n\\n\\n=== Desktop ===\\nRTX 4060 and RTX 4060 Ti, as well as a later revision of the RTX 4070, use GDDR6 video memory. All other cards use GDDR6X video memory manufactured by Micron.\\nRTX 4060 and RTX 4060 Ti have a limited 8 lane PCI Express 4.0 bus interface. All other cards support the full 16 lanes.\\nThere is a slower (on average 1% slower according to a single review so far) variant of the RTX 4070 with 20Gbps GDDR6 VRAM introduced in August 2024. All the other specs are identical.\\n\\n\\n=== Mobile ===\\nAll SKUs feature GDDR6 memory.\\n\\n\\n== Controversies ==\\n\\n\\n=== RTX 4080 12GB ===\\nWhen the 12GB variant of the RTX 4080 was announced, numerous publications, prominent YouTubers, reviewers, and the community criticized Nvidia for marketing it as an RTX 4080, given the equivalent performance of previous XX80-class cards when compared with other cards of the same series, and the large gap in specifications and performance compared to the 16GB variant. The criticism focused on Nvidia\\'s naming scheme - two 4080 models were to be offered, an \"RTX 4080 12GB\" and an \"RTX 4080 16GB\" - the obvious interpretation was that the only difference between the two products would be a difference in VRAM capacity. However, unlike other examples of Nvidia GPUs with differing memory configurations wit'), Document(metadata={'title': 'DeepSeek', 'summary': 'Hangzhou DeepSeek Artificial Intelligence Basic Technology Research Co., Ltd., doing business as DeepSeek, is a Chinese artificial intelligence company that develops large language models (LLMs). Based in Hangzhou, Zhejiang, it is owned and funded by the Chinese hedge fund High-Flyer. DeepSeek was founded in July 2023 by Liang Wenfeng, the co-founder of High-Flyer, who also serves as the CEO for both companies. The company launched an eponymous chatbot alongside its DeepSeek-R1 model in January 2025.\\nReleased under the MIT License, DeepSeek-R1 provides responses comparable to other contemporary large language models, such as OpenAI\\'s GPT-4 and o1. Its training cost was reported to be significantly lower than other LLMs. The company claims that it trained its V3 model for US$6 million—far less than the US$100 million cost for OpenAI\\'s GPT-4 in 2023—and using approximately one-tenth the computing power consumed by Meta\\'s comparable model, Llama 3.1. DeepSeek\\'s success against larger and more established rivals has been described as \"upending AI\".\\nDeepSeek\\'s models are described as \"open weight,\" meaning the exact parameters are openly shared, although certain usage conditions differ from typical open-source software. The company reportedly recruits AI researchers from top Chinese universities and also hires from outside traditional computer science fields to broaden its models\\' knowledge and capabilities.\\nDeepSeek significantly reduced training expenses for their R1 model by incorporating techniques such as mixture of experts (MoE) layers. The company also trained its models during ongoing trade restrictions on AI chip exports to China, using weaker AI chips intended for export and employing fewer units overall. Observers say this breakthrough sent \"shock waves\" through the industry, threatening established AI hardware leaders such as Nvidia; Nvidia\\'s share price dropped sharply, losing US$600 billion in market value, the largest single-company decline in U.S. stock market history.', 'source': 'https://en.wikipedia.org/wiki/DeepSeek'}, page_content='Hangzhou DeepSeek Artificial Intelligence Basic Technology Research Co., Ltd., doing business as DeepSeek, is a Chinese artificial intelligence company that develops large language models (LLMs). Based in Hangzhou, Zhejiang, it is owned and funded by the Chinese hedge fund High-Flyer. DeepSeek was founded in July 2023 by Liang Wenfeng, the co-founder of High-Flyer, who also serves as the CEO for both companies. The company launched an eponymous chatbot alongside its DeepSeek-R1 model in January 2025.\\nReleased under the MIT License, DeepSeek-R1 provides responses comparable to other contemporary large language models, such as OpenAI\\'s GPT-4 and o1. Its training cost was reported to be significantly lower than other LLMs. The company claims that it trained its V3 model for US$6 million—far less than the US$100 million cost for OpenAI\\'s GPT-4 in 2023—and using approximately one-tenth the computing power consumed by Meta\\'s comparable model, Llama 3.1. DeepSeek\\'s success against larger and more established rivals has been described as \"upending AI\".\\nDeepSeek\\'s models are described as \"open weight,\" meaning the exact parameters are openly shared, although certain usage conditions differ from typical open-source software. The company reportedly recruits AI researchers from top Chinese universities and also hires from outside traditional computer science fields to broaden its models\\' knowledge and capabilities.\\nDeepSeek significantly reduced training expenses for their R1 model by incorporating techniques such as mixture of experts (MoE) layers. The company also trained its models during ongoing trade restrictions on AI chip exports to China, using weaker AI chips intended for export and employing fewer units overall. Observers say this breakthrough sent \"shock waves\" through the industry, threatening established AI hardware leaders such as Nvidia; Nvidia\\'s share price dropped sharply, losing US$600 billion in market value, the largest single-company decline in U.S. stock market history.\\n\\n\\n== History ==\\n\\n\\n=== Founding and early years (2016–2023) ===\\nIn February 2016, High-Flyer was co-founded by AI enthusiast Liang Wenfeng, who had been trading since the 2007–2008 financial crisis while attending Zhejiang University. The company began stock trading using a GPU-dependent deep learning model on 21 October 2016; before then, it had used CPU-based linear models. By the end of 2017, most of its trading was driven by AI.\\nLiang established High-Flyer as a hedge fund focused on developing and using AI trading algorithms, and by 2021 the firm was using AI exclusively, often using Nvidia chips.\\nIn 2019, the company began constructing its first computing cluster, Fire-Flyer, at a cost of 200 million yuan; it contained 1,100 GPUs interconnected at 200 Gbit/s and was retired after 1.5 years in operation.\\nBy 2021, Liang had started buying large quantities of Nvidia GPUs for an AI project, reportedly obtaining 10,000 Nvidia A100 GPUs before the United States restricted chip sales to China. Computing cluster Fire-Flyer 2 began construction in 2021 with a budget of 1 billion yuan.\\nIt was reported that in 2022, Fire-Flyer 2\\'s capacity had been used at over 96%, totaling 56.74 million GPU hours. 27% was used to support scientific computing outside the company.\\nDuring 2022, Fire-Flyer 2 had 5000 PCIe A100 GPUs in 625 nodes, each containing 8 GPUs. At the time, it exclusively used PCIe instead of the DGX version of A100, since at the time the models it trained could fit within a single 40 GB GPU VRAM and so there was no need for the higher bandwidth of DGX (i.e., it required only data parallelism but not model parallelism). Later, it incorporated NVLinks and NCCL (Nvidia Collective Communications Library) to train larger models that required model parallelism.\\nOn 14 April 2023, High-Flyer announced the launch of an artificial general intelligence (AGI) research lab, stating that the new lab would focus on developing AI tools unrelated to the firm\\'s financ')]\n"
     ]
    }
   ],
   "source": [
    "print(result)"
   ]
  },
  {
   "cell_type": "code",
   "execution_count": null,
   "id": "f764f5c4",
   "metadata": {},
   "outputs": [
    {
     "name": "stdout",
     "output_type": "stream",
     "text": [
      "1 : \n",
      "Result : Nvidia Corporation ( en-VID-ee-ə) is an American multinational corporation and technology company headquartered in Santa Clara, California, and incorporated in Delaware. Founded in 1993 by Jensen Huang (president and CEO), Chris Malachowsky, and Curtis Priem, it designs and supplies graphics processing units (GPUs), application programming interfaces (APIs) for data science and high-performance computing, and system on a chip units (SoCs) for mobile computing and the automotive market. Nvidia is also a leading supplier of artificial intelligence (AI) hardware and software. Nvidia outsources the manufacturing of the hardware it designs.\n",
      "Nvidia's professional line of GPUs are used for edge-to-cloud computing and in supercomputers and workstations for applications in fields such as architecture, engineering and construction, media and entertainment, automotive, scientific research, and manufacturing design. Its GeForce line of GPUs are aimed at the consumer market and are used in applications such as video editing, 3D rendering, and PC gaming. With a market share of 80.2% in the second quarter of 2023, Nvidia leads global sales of discrete desktop GPUs by a wide margin. The company expanded its presence in the gaming industry with the introduction of the Shield Portable (a handheld game console), Shield Tablet (a gaming tablet), and Shield TV (a digital media player), as well as its cloud gaming service GeForce Now.\n",
      "In addition to GPU design and outsourcing manufacturing, Nvidia provides the CUDA software platform and API that allows the creation of massively parallel programs which utilize GPUs. They are deployed in supercomputing sites around the world. In the late 2000s, Nvidia had moved into the mobile computing market, where it produced Tegra mobile processors for smartphones and tablets and vehicle navigation and entertainment systems. Its competitors include AMD, Intel, Qualcomm, and AI accelerator companies such as Cerebras and Graphcore. It also makes AI-powered software for audio and video processing (e.g., Nvidia Maxine).\n",
      "Nvidia's attempt to acquire Arm from SoftBank in September 2020 failed to materialize following extended regulatory scrutiny, leading to the termination of the deal in February 2022 in what would have been the largest semiconductor acquisition. In 2023, Nvidia became the seventh public U.S. company to be valued at over $1 trillion, and the company's valuation has increased rapidly since then amid growing demand for data center chips with AI capabilities in the midst of the AI boom. In June 2024, for one day, Nvidia overtook Microsoft as the world's most valuable publicly traded company, with a market capitalization of over $3.3 trillion.\n",
      "\n",
      "\n",
      "== History ==\n",
      "\n",
      "\n",
      "=== Founding ===\n",
      "\n",
      "Nvidia was founded on April 5, 1993, by Jensen Huang (who, as of 2025, remains CEO), a Taiwanese-American electrical engineer who was previously the director of CoreWare at LSI Logic and a microprocessor designer at AMD; Chris Malachowsky, an engineer who worked at Sun Microsystems; and Curtis Priem, who was previously a senior staff engineer and graphics chip designer at IBM and Sun Microsystems. In late 1992, the three men agreed to start the company in a meeting at a Denny's roadside diner on Berryessa Road in East San Jose. \n",
      "At the time, Malachowsky and Priem were frustrated with Sun's management and were looking to leave, but Huang was on \"firmer ground\", in that he was already running his own division at LSI. The three co-founders discussed a vision of the future which was so compelling that Huang decided to leave LSI and become the chief executive officer of their new startup.\n",
      "The three co-founders envisioned  graphics-based processing as the best trajectory for tackling challenges that had eluded general-purpose computing methods. As Huang later explained: \"We also observed that video games were simultaneously one of the most computationally challenging problems and would have incredibly high sales volume. Those two conditio\n",
      "2 : \n",
      "Result : The GeForce RTX 40 series is a family of consumer graphics processing units (GPUs) developed by Nvidia as part of its GeForce line of graphics cards, succeeding the GeForce RTX 30 series. The series was announced on September 20, 2022, at the GPU Technology Conference, and launched on October 12, 2022, starting with its flagship model, the RTX 4090. It was succeeded by the GeForce RTX 50 series, which debuted on January 30, 2025, after being previously announced at CES.\n",
      "The cards are based on Nvidia's Ada Lovelace architecture and feature Nvidia RTX's third-generation RT cores for hardware-accelerated real-time ray tracing, and fourth-generation deep-learning-focused Tensor Cores.\n",
      "\n",
      "\n",
      "== Details ==\n",
      "Architectural highlights of the Ada Lovelace architecture include the following:\n",
      "\n",
      "CUDA Compute Capability 8.9\n",
      "TSMC 4N process (5 nm custom designed for Nvidia) – not to be confused with N4\n",
      "Fourth-generation Tensor Cores with FP8, FP16, bfloat16, TensorFloat-32 (TF32) and sparsity acceleration\n",
      "Third-generation Ray Tracing Cores, along with concurrent ray tracing, shading and compute\n",
      "Shader Execution Reordering – needs to be enabled by the developer\n",
      "Dual NVENC with 8K 10-bit 120FPS AV1 fixed function hardware encoding\n",
      "A new generation of Optical Flow Accelerator to aid DLSS 3.0 intermediate AI-based frame generation\n",
      "No NVLink support\n",
      "DisplayPort 1.4a and HDMI 2.1 display connections\n",
      "Double-precision (FP64) performance of Ada Lovelace silicon is 1/64 of single-precision (FP32) performance.\n",
      "\n",
      "\n",
      "== Release ==\n",
      "The RTX 4090 was released as the first model of the series on October 12, 2022, for $1,599 US, and the 16GB RTX 4080 was released on November 16, 2022, for $1,199 US. An RTX 4080 12GB was announced in September 2022, originally to be priced at $899 US, however following some controversy in the media it was \"unlaunched\" by Nvidia. On January 5, 2023, that model was released as the RTX 4070 Ti for $799 US. The RTX 4070 was then released on April 13, 2023 at $599 US MSRP. The RTX 4060 Ti was released on May 24, 2023, at $399 US, and the RTX 4060 on June 29, 2023, at $299 US. An RTX 4060 Ti 16GB followed on July 18, 2023, at $499 US. On January 8, 2024, Nvidia released the RTX 4070 Super at $599, RTX 4070 Ti Super at $799 and RTX 4080 Super at $999. These video cards were launched at higher specs and lower prices than their original counterparts. In the same vein, the production of the RTX 4080 and RTX 4070 Ti have stopped due to the Super series, but the 4070 will remain. In August 2024, Nvidia, citing the need \"to improve supply and availability\", introduced a variant of the RTX 4070 card with GDDR6 running at 20Gbps while all the other specs remain the same.\n",
      "\n",
      "\n",
      "== Products ==\n",
      "\n",
      "\n",
      "=== Desktop ===\n",
      "RTX 4060 and RTX 4060 Ti, as well as a later revision of the RTX 4070, use GDDR6 video memory. All other cards use GDDR6X video memory manufactured by Micron.\n",
      "RTX 4060 and RTX 4060 Ti have a limited 8 lane PCI Express 4.0 bus interface. All other cards support the full 16 lanes.\n",
      "There is a slower (on average 1% slower according to a single review so far) variant of the RTX 4070 with 20Gbps GDDR6 VRAM introduced in August 2024. All the other specs are identical.\n",
      "\n",
      "\n",
      "=== Mobile ===\n",
      "All SKUs feature GDDR6 memory.\n",
      "\n",
      "\n",
      "== Controversies ==\n",
      "\n",
      "\n",
      "=== RTX 4080 12GB ===\n",
      "When the 12GB variant of the RTX 4080 was announced, numerous publications, prominent YouTubers, reviewers, and the community criticized Nvidia for marketing it as an RTX 4080, given the equivalent performance of previous XX80-class cards when compared with other cards of the same series, and the large gap in specifications and performance compared to the 16GB variant. The criticism focused on Nvidia's naming scheme - two 4080 models were to be offered, an \"RTX 4080 12GB\" and an \"RTX 4080 16GB\" - the obvious interpretation was that the only difference between the two products would be a difference in VRAM capacity. However, unlike other examples of Nvidia GPUs with differing memory configurations wit\n",
      "3 : \n",
      "Result : Hangzhou DeepSeek Artificial Intelligence Basic Technology Research Co., Ltd., doing business as DeepSeek, is a Chinese artificial intelligence company that develops large language models (LLMs). Based in Hangzhou, Zhejiang, it is owned and funded by the Chinese hedge fund High-Flyer. DeepSeek was founded in July 2023 by Liang Wenfeng, the co-founder of High-Flyer, who also serves as the CEO for both companies. The company launched an eponymous chatbot alongside its DeepSeek-R1 model in January 2025.\n",
      "Released under the MIT License, DeepSeek-R1 provides responses comparable to other contemporary large language models, such as OpenAI's GPT-4 and o1. Its training cost was reported to be significantly lower than other LLMs. The company claims that it trained its V3 model for US$6 million—far less than the US$100 million cost for OpenAI's GPT-4 in 2023—and using approximately one-tenth the computing power consumed by Meta's comparable model, Llama 3.1. DeepSeek's success against larger and more established rivals has been described as \"upending AI\".\n",
      "DeepSeek's models are described as \"open weight,\" meaning the exact parameters are openly shared, although certain usage conditions differ from typical open-source software. The company reportedly recruits AI researchers from top Chinese universities and also hires from outside traditional computer science fields to broaden its models' knowledge and capabilities.\n",
      "DeepSeek significantly reduced training expenses for their R1 model by incorporating techniques such as mixture of experts (MoE) layers. The company also trained its models during ongoing trade restrictions on AI chip exports to China, using weaker AI chips intended for export and employing fewer units overall. Observers say this breakthrough sent \"shock waves\" through the industry, threatening established AI hardware leaders such as Nvidia; Nvidia's share price dropped sharply, losing US$600 billion in market value, the largest single-company decline in U.S. stock market history.\n",
      "\n",
      "\n",
      "== History ==\n",
      "\n",
      "\n",
      "=== Founding and early years (2016–2023) ===\n",
      "In February 2016, High-Flyer was co-founded by AI enthusiast Liang Wenfeng, who had been trading since the 2007–2008 financial crisis while attending Zhejiang University. The company began stock trading using a GPU-dependent deep learning model on 21 October 2016; before then, it had used CPU-based linear models. By the end of 2017, most of its trading was driven by AI.\n",
      "Liang established High-Flyer as a hedge fund focused on developing and using AI trading algorithms, and by 2021 the firm was using AI exclusively, often using Nvidia chips.\n",
      "In 2019, the company began constructing its first computing cluster, Fire-Flyer, at a cost of 200 million yuan; it contained 1,100 GPUs interconnected at 200 Gbit/s and was retired after 1.5 years in operation.\n",
      "By 2021, Liang had started buying large quantities of Nvidia GPUs for an AI project, reportedly obtaining 10,000 Nvidia A100 GPUs before the United States restricted chip sales to China. Computing cluster Fire-Flyer 2 began construction in 2021 with a budget of 1 billion yuan.\n",
      "It was reported that in 2022, Fire-Flyer 2's capacity had been used at over 96%, totaling 56.74 million GPU hours. 27% was used to support scientific computing outside the company.\n",
      "During 2022, Fire-Flyer 2 had 5000 PCIe A100 GPUs in 625 nodes, each containing 8 GPUs. At the time, it exclusively used PCIe instead of the DGX version of A100, since at the time the models it trained could fit within a single 40 GB GPU VRAM and so there was no need for the higher bandwidth of DGX (i.e., it required only data parallelism but not model parallelism). Later, it incorporated NVLinks and NCCL (Nvidia Collective Communications Library) to train larger models that required model parallelism.\n",
      "On 14 April 2023, High-Flyer announced the launch of an artificial general intelligence (AGI) research lab, stating that the new lab would focus on developing AI tools unrelated to the firm's financ\n"
     ]
    }
   ],
   "source": [
    "for i,doc in enumerate(result): #doc is the document obj , and i is the index.\n",
    "    print(f\"{i+1} : \")\n",
    "    print(f\"Result : {doc.page_content}\")"
   ]
  },
  {
   "cell_type": "code",
   "execution_count": null,
   "id": "8184ff36",
   "metadata": {},
   "outputs": [],
   "source": []
  }
 ],
 "metadata": {
  "kernelspec": {
   "display_name": "Kapil_env",
   "language": "python",
   "name": "myenv"
  },
  "language_info": {
   "codemirror_mode": {
    "name": "ipython",
    "version": 3
   },
   "file_extension": ".py",
   "mimetype": "text/x-python",
   "name": "python",
   "nbconvert_exporter": "python",
   "pygments_lexer": "ipython3",
   "version": "3.13.3"
  }
 },
 "nbformat": 4,
 "nbformat_minor": 5
}
