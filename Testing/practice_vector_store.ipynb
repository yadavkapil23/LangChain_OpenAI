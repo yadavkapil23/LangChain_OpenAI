{
 "cells": [
  {
   "cell_type": "code",
   "execution_count": 1,
   "id": "56582a01",
   "metadata": {},
   "outputs": [],
   "source": [
    "from langchain_openai import OpenAIEmbeddings\n",
    "from dotenv import load_dotenv\n",
    "from langchain.vectorstores import Chroma"
   ]
  },
  {
   "cell_type": "code",
   "execution_count": 2,
   "id": "7d027418",
   "metadata": {},
   "outputs": [
    {
     "data": {
      "text/plain": [
       "True"
      ]
     },
     "execution_count": 2,
     "metadata": {},
     "output_type": "execute_result"
    }
   ],
   "source": [
    "load_dotenv()"
   ]
  },
  {
   "cell_type": "code",
   "execution_count": 3,
   "id": "70ddc4ab",
   "metadata": {},
   "outputs": [],
   "source": [
    "from langchain.schema import Document"
   ]
  },
  {
   "cell_type": "code",
   "execution_count": 5,
   "id": "bf341f15",
   "metadata": {},
   "outputs": [],
   "source": [
    "doc1 = Document(\n",
    "page_content=\"Large language models like GPT-4 are capable of understanding and generating human-like text. They are trained on diverse datasets and can perform tasks such as summarization, question answering, and translation.\",\n",
    "metadata = {\"topic\":\"AI and Language Models\"}\n",
    ")\n",
    "\n",
    "doc2 = Document(\n",
    "    page_content=\"Climate change refers to long-term shifts in temperatures and weather patterns. These changes may be natural, but human activities have been the main driver of climate change since the 1800s, primarily due to burning fossil fuels.\",\n",
    "    metadata={\"topic\": \"Climate Change\"}\n",
    ")\n",
    "\n",
    "doc3 = Document(\n",
    "    page_content=\"Our solar system consists of the sun and everything bound to it by gravity — the planets, moons, asteroids, comets, and more. Earth is the third planet from the sun and the only one known to support life.\",\n",
    "    metadata={\"topic\": \"The Solar System\"}\n",
    ")\n",
    "\n",
    "doc4 = Document(\n",
    "    page_content=\"Regular physical activity improves brain health, helps manage weight, reduces the risk of disease, and strengthens bones and muscles. It can also improve mood and mental health.\",\n",
    "    metadata={\"topic\": \"Benefits of Exercise\"}\n",
    ")\n",
    "\n",
    "doc5 = Document(\n",
    "    page_content=\"The internet originated from research commissioned by the U.S. Department of Defense in the 1960s. It evolved from ARPANET and grew into the global network we use today for communication, commerce, and information sharing.\",\n",
    "    metadata={\"topic\": \"History of the Internet\"}\n",
    ")\n"
   ]
  },
  {
   "cell_type": "code",
   "execution_count": 7,
   "id": "389b480c",
   "metadata": {},
   "outputs": [],
   "source": [
    "docs = [doc1,doc2,doc3,doc4,doc5]"
   ]
  },
  {
   "cell_type": "code",
   "execution_count": 8,
   "id": "2c976f6a",
   "metadata": {},
   "outputs": [
    {
     "name": "stderr",
     "output_type": "stream",
     "text": [
      "C:\\Users\\ky805\\AppData\\Local\\Temp\\ipykernel_8688\\2740563496.py:1: LangChainDeprecationWarning: The class `Chroma` was deprecated in LangChain 0.2.9 and will be removed in 1.0. An updated version of the class exists in the :class:`~langchain-chroma package and should be used instead. To use it run `pip install -U :class:`~langchain-chroma` and import as `from :class:`~langchain_chroma import Chroma``.\n",
      "  vector_store = Chroma(\n"
     ]
    }
   ],
   "source": [
    "vector_store = Chroma(\n",
    "    embedding_function=OpenAIEmbeddings(),\n",
    "    persist_directory=\"my_db\",\n",
    "    collection_name=\"database\"\n",
    ")"
   ]
  },
  {
   "cell_type": "code",
   "execution_count": 9,
   "id": "9fdada12",
   "metadata": {},
   "outputs": [
    {
     "data": {
      "text/plain": [
       "['9d5d1713-f6c6-472f-8a61-22fa6f57ed70',\n",
       " 'ca443c18-18d2-4afe-85ea-10269d769113',\n",
       " '9c4a3acc-0840-4e17-b5a9-27256374a79f',\n",
       " '8bde7f71-1cc8-4ded-a54a-aacb0c87a792',\n",
       " '9570f497-8e20-43ad-8745-8abe60484886']"
      ]
     },
     "execution_count": 9,
     "metadata": {},
     "output_type": "execute_result"
    }
   ],
   "source": [
    "vector_store.add_documents(docs)"
   ]
  },
  {
   "cell_type": "code",
   "execution_count": 10,
   "id": "02c6af6e",
   "metadata": {},
   "outputs": [
    {
     "data": {
      "text/plain": [
       "{'ids': ['9d5d1713-f6c6-472f-8a61-22fa6f57ed70',\n",
       "  'ca443c18-18d2-4afe-85ea-10269d769113',\n",
       "  '9c4a3acc-0840-4e17-b5a9-27256374a79f',\n",
       "  '8bde7f71-1cc8-4ded-a54a-aacb0c87a792',\n",
       "  '9570f497-8e20-43ad-8745-8abe60484886'],\n",
       " 'embeddings': array([[-0.0124462 , -0.0086051 ,  0.00064425, ..., -0.01183526,\n",
       "         -0.02155175, -0.01691123],\n",
       "        [ 0.01494504, -0.02435577,  0.01298895, ...,  0.00910658,\n",
       "         -0.01808195, -0.04687472],\n",
       "        [ 0.02906025,  0.00743286, -0.01383407, ..., -0.0123301 ,\n",
       "         -0.02930884, -0.02429974],\n",
       "        [ 0.00049892, -0.01098975,  0.02316791, ..., -0.00683633,\n",
       "         -0.00133246, -0.03762085],\n",
       "        [ 0.01404411, -0.00625209,  0.00463209, ..., -0.01661887,\n",
       "         -0.00997871,  0.00134666]], shape=(5, 1536)),\n",
       " 'documents': ['Large language models like GPT-4 are capable of understanding and generating human-like text. They are trained on diverse datasets and can perform tasks such as summarization, question answering, and translation.',\n",
       "  'Climate change refers to long-term shifts in temperatures and weather patterns. These changes may be natural, but human activities have been the main driver of climate change since the 1800s, primarily due to burning fossil fuels.',\n",
       "  'Our solar system consists of the sun and everything bound to it by gravity — the planets, moons, asteroids, comets, and more. Earth is the third planet from the sun and the only one known to support life.',\n",
       "  'Regular physical activity improves brain health, helps manage weight, reduces the risk of disease, and strengthens bones and muscles. It can also improve mood and mental health.',\n",
       "  'The internet originated from research commissioned by the U.S. Department of Defense in the 1960s. It evolved from ARPANET and grew into the global network we use today for communication, commerce, and information sharing.'],\n",
       " 'uris': None,\n",
       " 'included': ['embeddings', 'documents', 'metadatas'],\n",
       " 'data': None,\n",
       " 'metadatas': [{'topic': 'AI and Language Models'},\n",
       "  {'topic': 'Climate Change'},\n",
       "  {'topic': 'The Solar System'},\n",
       "  {'topic': 'Benefits of Exercise'},\n",
       "  {'topic': 'History of the Internet'}]}"
      ]
     },
     "execution_count": 10,
     "metadata": {},
     "output_type": "execute_result"
    }
   ],
   "source": [
    "vector_store.get(include=[\"embeddings\",\"documents\",\"metadatas\"])"
   ]
  },
  {
   "cell_type": "code",
   "execution_count": 11,
   "id": "23afab56",
   "metadata": {},
   "outputs": [
    {
     "data": {
      "text/plain": [
       "[Document(metadata={'topic': 'AI and Language Models'}, page_content='Large language models like GPT-4 are capable of understanding and generating human-like text. They are trained on diverse datasets and can perform tasks such as summarization, question answering, and translation.'),\n",
       " Document(metadata={'topic': 'Climate Change'}, page_content='Climate change refers to long-term shifts in temperatures and weather patterns. These changes may be natural, but human activities have been the main driver of climate change since the 1800s, primarily due to burning fossil fuels.')]"
      ]
     },
     "execution_count": 11,
     "metadata": {},
     "output_type": "execute_result"
    }
   ],
   "source": [
    "vector_store.similarity_search(\n",
    "    query=\"What are Large Language Models?\",\n",
    "    k=2\n",
    ")"
   ]
  },
  {
   "cell_type": "code",
   "execution_count": 12,
   "id": "5ead4a00",
   "metadata": {},
   "outputs": [
    {
     "data": {
      "text/plain": [
       "[(Document(metadata={'topic': 'The Solar System'}, page_content='Our solar system consists of the sun and everything bound to it by gravity — the planets, moons, asteroids, comets, and more. Earth is the third planet from the sun and the only one known to support life.'),\n",
       "  0.25423794984817505),\n",
       " (Document(metadata={'topic': 'History of the Internet'}, page_content='The internet originated from research commissioned by the U.S. Department of Defense in the 1960s. It evolved from ARPANET and grew into the global network we use today for communication, commerce, and information sharing.'),\n",
       "  0.5108059644699097)]"
      ]
     },
     "execution_count": 12,
     "metadata": {},
     "output_type": "execute_result"
    }
   ],
   "source": [
    "vector_store.similarity_search_with_score(\n",
    "    query=\"What is solar System?\",\n",
    "    k=2\n",
    ")"
   ]
  },
  {
   "cell_type": "code",
   "execution_count": 13,
   "id": "26b0cfaa",
   "metadata": {},
   "outputs": [],
   "source": [
    "updated_doc1 = Document(\n",
    "    page_content=\"Large language models like Llama's are capable of understanding and generating human-like text. They are developed by the Meta.\",\n",
    "    metadata={\"topic\":\"Large Language Models\"}\n",
    ")"
   ]
  },
  {
   "cell_type": "code",
   "execution_count": 17,
   "id": "a7c18496",
   "metadata": {},
   "outputs": [],
   "source": [
    "vector_store.update_document(document_id=\"9d5d1713-f6c6-472f-8a61-22fa6f57ed70\",document=updated_doc1)"
   ]
  },
  {
   "cell_type": "code",
   "execution_count": 18,
   "id": "6cee9c16",
   "metadata": {},
   "outputs": [
    {
     "data": {
      "text/plain": [
       "[Document(metadata={'topic': 'Large Language Models'}, page_content=\"Large language models like Llama's are capable of understanding and generating human-like text. They are developed by the Meta.\"),\n",
       " Document(metadata={'topic': 'Climate Change'}, page_content='Climate change refers to long-term shifts in temperatures and weather patterns. These changes may be natural, but human activities have been the main driver of climate change since the 1800s, primarily due to burning fossil fuels.')]"
      ]
     },
     "execution_count": 18,
     "metadata": {},
     "output_type": "execute_result"
    }
   ],
   "source": [
    "vector_store.similarity_search(\n",
    "    query=\"What are Large Language Models?\",\n",
    "    k=2\n",
    ")"
   ]
  },
  {
   "cell_type": "code",
   "execution_count": 19,
   "id": "b86c0a64",
   "metadata": {},
   "outputs": [],
   "source": [
    "vector_store.delete(ids=\"9d5d1713-f6c6-472f-8a61-22fa6f57ed70\")"
   ]
  },
  {
   "cell_type": "code",
   "execution_count": 20,
   "id": "6690ff58",
   "metadata": {},
   "outputs": [
    {
     "data": {
      "text/plain": [
       "[Document(metadata={'topic': 'Climate Change'}, page_content='Climate change refers to long-term shifts in temperatures and weather patterns. These changes may be natural, but human activities have been the main driver of climate change since the 1800s, primarily due to burning fossil fuels.'),\n",
       " Document(metadata={'topic': 'History of the Internet'}, page_content='The internet originated from research commissioned by the U.S. Department of Defense in the 1960s. It evolved from ARPANET and grew into the global network we use today for communication, commerce, and information sharing.')]"
      ]
     },
     "execution_count": 20,
     "metadata": {},
     "output_type": "execute_result"
    }
   ],
   "source": [
    "vector_store.similarity_search(\n",
    "    query=\"What are Large Language Models?\",\n",
    "    k=2\n",
    ")"
   ]
  },
  {
   "cell_type": "code",
   "execution_count": null,
   "id": "13f59ae7",
   "metadata": {},
   "outputs": [],
   "source": []
  }
 ],
 "metadata": {
  "kernelspec": {
   "display_name": "Kapil_env",
   "language": "python",
   "name": "myenv"
  },
  "language_info": {
   "codemirror_mode": {
    "name": "ipython",
    "version": 3
   },
   "file_extension": ".py",
   "mimetype": "text/x-python",
   "name": "python",
   "nbconvert_exporter": "python",
   "pygments_lexer": "ipython3",
   "version": "3.13.3"
  }
 },
 "nbformat": 4,
 "nbformat_minor": 5
}
