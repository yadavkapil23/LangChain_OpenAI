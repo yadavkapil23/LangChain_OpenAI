{
 "cells": [
  {
   "cell_type": "code",
   "execution_count": 8,
   "id": "49839928",
   "metadata": {},
   "outputs": [],
   "source": [
    "from langchain_openai import OpenAIEmbeddings\n",
    "from dotenv import load_dotenv\n",
    "from langchain.vectorstores import Chroma"
   ]
  },
  {
   "cell_type": "code",
   "execution_count": 9,
   "id": "8b027fa5",
   "metadata": {},
   "outputs": [
    {
     "data": {
      "text/plain": [
       "True"
      ]
     },
     "execution_count": 9,
     "metadata": {},
     "output_type": "execute_result"
    }
   ],
   "source": [
    "load_dotenv()"
   ]
  },
  {
   "cell_type": "code",
   "execution_count": 12,
   "id": "2e69bf39",
   "metadata": {},
   "outputs": [],
   "source": [
    "model = OpenAIEmbeddings()"
   ]
  },
  {
   "cell_type": "code",
   "execution_count": 15,
   "id": "eb26fd36",
   "metadata": {},
   "outputs": [],
   "source": [
    "text = [\n",
    "    \"Ford is an American automotive company founded by the Henry Ford\",\n",
    "    \"Volkswagen AG is a German automotive company founded after the world war 2.\",\n",
    "    \"Hyundai Motor Group is a South Korean company founded after the ceasefire of the Korean War.\",\n",
    "    \"Jaguar is an British brand owned and operated by the Indian conglomerate Tata Group.\"\n",
    "]"
   ]
  },
  {
   "cell_type": "code",
   "execution_count": 17,
   "id": "14ec6fd9",
   "metadata": {},
   "outputs": [
    {
     "name": "stderr",
     "output_type": "stream",
     "text": [
      "C:\\Users\\ky805\\AppData\\Local\\Temp\\ipykernel_19180\\694598005.py:1: LangChainDeprecationWarning: The class `Chroma` was deprecated in LangChain 0.2.9 and will be removed in 1.0. An updated version of the class exists in the :class:`~langchain-chroma package and should be used instead. To use it run `pip install -U :class:`~langchain-chroma` and import as `from :class:`~langchain_chroma import Chroma``.\n",
      "  vector_store = Chroma(embedding_function=OpenAIEmbeddings())\n"
     ]
    }
   ],
   "source": [
    "vector_store = Chroma(embedding_function=OpenAIEmbeddings())"
   ]
  },
  {
   "cell_type": "code",
   "execution_count": 18,
   "id": "9633bb26",
   "metadata": {},
   "outputs": [
    {
     "data": {
      "text/plain": [
       "['1a702458-637b-4a33-86b6-cf0aee45aa2b',\n",
       " '0173247f-03c6-4142-afb4-0342c827448b',\n",
       " '197dbe63-9130-46cf-9e1a-e2cfe40ae1a2',\n",
       " '64825b60-18ab-4cb3-9633-dd00a1a8a37f']"
      ]
     },
     "execution_count": 18,
     "metadata": {},
     "output_type": "execute_result"
    }
   ],
   "source": [
    "vector_store.add_texts(text)"
   ]
  },
  {
   "cell_type": "code",
   "execution_count": 19,
   "id": "a1dbd70b",
   "metadata": {},
   "outputs": [
    {
     "data": {
      "text/plain": [
       "{'ids': ['1a702458-637b-4a33-86b6-cf0aee45aa2b',\n",
       "  '0173247f-03c6-4142-afb4-0342c827448b',\n",
       "  '197dbe63-9130-46cf-9e1a-e2cfe40ae1a2',\n",
       "  '64825b60-18ab-4cb3-9633-dd00a1a8a37f'],\n",
       " 'embeddings': array([[-0.01119992, -0.01018118, -0.00678745, ...,  0.00356248,\n",
       "         -0.00278748, -0.02043736],\n",
       "        [-0.01076762, -0.02110731,  0.00086846, ..., -0.00206731,\n",
       "         -0.00294206,  0.00189267],\n",
       "        [-0.01749326, -0.01917874,  0.00735483, ..., -0.00746336,\n",
       "          0.01018312,  0.00185148],\n",
       "        [-0.01330571,  0.00564455, -0.00337182, ..., -0.00609197,\n",
       "          0.00994038, -0.00848142]], shape=(4, 1536)),\n",
       " 'documents': None,\n",
       " 'uris': None,\n",
       " 'included': ['embeddings'],\n",
       " 'data': None,\n",
       " 'metadatas': None}"
      ]
     },
     "execution_count": 19,
     "metadata": {},
     "output_type": "execute_result"
    }
   ],
   "source": [
    "vector_store.get(include=[\"embeddings\"])"
   ]
  },
  {
   "cell_type": "code",
   "execution_count": 20,
   "id": "86d663bf",
   "metadata": {},
   "outputs": [
    {
     "data": {
      "text/plain": [
       "[Document(metadata={}, page_content='Ford is an American automotive company founded by the Henry Ford'),\n",
       " Document(metadata={}, page_content='Hyundai Motor Group is a South Korean company founded after the ceasefire of the Korean War.')]"
      ]
     },
     "execution_count": 20,
     "metadata": {},
     "output_type": "execute_result"
    }
   ],
   "source": [
    "vector_store.similarity_search(\n",
    "    query=\"What is Apple?\",\n",
    "    k=2\n",
    ")"
   ]
  },
  {
   "cell_type": "code",
   "execution_count": 21,
   "id": "810d39fe",
   "metadata": {},
   "outputs": [],
   "source": [
    "updated_text = [\n",
    "    \"Ford is an American automotive company founded by the Henry Ford\",\n",
    "    \"Volkswagen AG is a German automotive company founded after the world war 2.\",\n",
    "    \"Hyundai Motor Group is a South Korean company founded after the ceasefire of the Korean War.\",\n",
    "    \"Jaguar is an British brand owned and operated by the Indian conglomerate Tata Group.\",\n",
    "    \"BYD is a Chinese company which is world leader in the Electric Cars.\",\n",
    "    \"Mahindra is an indian automotive brand , owned by Anand Mahindra.\",\n",
    "    \"TOYOTA is a Japanese car manufacturer , which sells the most cars in the world.\"\n",
    "]"
   ]
  },
  {
   "cell_type": "code",
   "execution_count": 22,
   "id": "c404e9c2",
   "metadata": {},
   "outputs": [
    {
     "data": {
      "text/plain": [
       "['180a0c3b-bdc0-419c-be73-2ea508631230',\n",
       " '9c448619-1b85-49b5-be41-0b7d63067afa',\n",
       " '0c870274-50a4-4ba7-b5ff-afb5841f62ee',\n",
       " '637ada08-476e-4b75-b306-0ae1a34cfe9f',\n",
       " '89d37e49-d7b2-4d9b-a0cc-210ad00b504a',\n",
       " 'f691104c-9d65-4b05-9f60-bbcc1bb28dc6',\n",
       " '13f9204d-ac23-45f4-b1cc-47b1a2f74e76']"
      ]
     },
     "execution_count": 22,
     "metadata": {},
     "output_type": "execute_result"
    }
   ],
   "source": [
    "#IT DOESN'T PROVIDE  ANY DIRECT UPDATE METHOD\n",
    "vector_store.add_texts(updated_text)"
   ]
  },
  {
   "cell_type": "code",
   "execution_count": 23,
   "id": "ffaf0ad2",
   "metadata": {},
   "outputs": [
    {
     "data": {
      "text/plain": [
       "[Document(metadata={}, page_content='Mahindra is an indian automotive brand , owned by Anand Mahindra.'),\n",
       " Document(metadata={}, page_content='Jaguar is an British brand owned and operated by the Indian conglomerate Tata Group.')]"
      ]
     },
     "execution_count": 23,
     "metadata": {},
     "output_type": "execute_result"
    }
   ],
   "source": [
    "vector_store.similarity_search(\n",
    "    query=\"What is Indian?\",\n",
    "    k=2\n",
    ")"
   ]
  }
 ],
 "metadata": {
  "kernelspec": {
   "display_name": "Kapil_env",
   "language": "python",
   "name": "myenv"
  },
  "language_info": {
   "codemirror_mode": {
    "name": "ipython",
    "version": 3
   },
   "file_extension": ".py",
   "mimetype": "text/x-python",
   "name": "python",
   "nbconvert_exporter": "python",
   "pygments_lexer": "ipython3",
   "version": "3.13.3"
  }
 },
 "nbformat": 4,
 "nbformat_minor": 5
}
