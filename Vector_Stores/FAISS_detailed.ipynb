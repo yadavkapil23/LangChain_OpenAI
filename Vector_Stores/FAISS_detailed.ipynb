{
 "cells": [
  {
   "cell_type": "code",
   "execution_count": 1,
   "id": "be32e9e6",
   "metadata": {},
   "outputs": [],
   "source": [
    "from langchain.vectorstores import FAISS\n",
    "from langchain_openai import OpenAIEmbeddings\n",
    "from dotenv import load_dotenv\n",
    "from langchain.schema import Document"
   ]
  },
  {
   "cell_type": "code",
   "execution_count": 2,
   "id": "8cfd9f14",
   "metadata": {},
   "outputs": [
    {
     "data": {
      "text/plain": [
       "True"
      ]
     },
     "execution_count": 2,
     "metadata": {},
     "output_type": "execute_result"
    }
   ],
   "source": [
    "load_dotenv()"
   ]
  },
  {
   "cell_type": "code",
   "execution_count": 3,
   "id": "9397b86f",
   "metadata": {},
   "outputs": [],
   "source": [
    "model = OpenAIEmbeddings()"
   ]
  },
  {
   "cell_type": "code",
   "execution_count": 5,
   "id": "75cc1a1d",
   "metadata": {},
   "outputs": [],
   "source": [
    "doc1 = Document(\n",
    "    page_content=\"Apple is an American Company , which makes world class iPhones , iPads , MacBooks and many more. Being a market leader in all these , it values at USD $3 Trillion in Market Cap on NASDAQ.\",\n",
    "    metadata={\"Country\":\"USA\"}\n",
    ")\n",
    "\n",
    "doc2 = Document(\n",
    "    page_content=\"Microsoft, headquartered in Redmond, USA, is a global leader in software development. Known for Windows OS, Azure Cloud, and Office Suite, it has a market cap of over $2.5 Trillion.\",\n",
    "    metadata={\"Country\": \"USA\", \"Sector\": \"Technology\"}\n",
    ")\n",
    "\n",
    "doc3 = Document(\n",
    "    page_content=\"Tesla, led by Elon Musk, is an electric vehicle and clean energy company based in Austin, Texas. It dominates the EV market with models like Model S, Model 3, and Cybertruck.\",\n",
    "    metadata={\"Country\": \"USA\", \"CEO\": \"Elon Musk\"}\n",
    ")\n",
    "\n",
    "doc4 = Document(\n",
    "    page_content=\"Amazon, founded by Jeff Bezos, is the world's largest online retailer. It offers services like AWS, Prime Delivery, and Alexa, with a market cap exceeding $1.8 Trillion.\",\n",
    "    metadata={\"Country\": \"USA\", \"Founder\": \"Jeff Bezos\"}\n",
    ")\n",
    "\n",
    "doc5 = Document(\n",
    "    page_content=\"Louis Vuitton is a French luxury fashion brand specializing in leather goods, perfumes, and accessories. It is part of LVMH, the world's largest luxury conglomerate.\",\n",
    "    metadata={\"Country\": \"France\", \"Parent Company\": \"LVMH\"}\n",
    ")"
   ]
  },
  {
   "cell_type": "code",
   "execution_count": 6,
   "id": "fa94338c",
   "metadata": {},
   "outputs": [],
   "source": [
    "docs = [doc1,doc2,doc3,doc4,doc5]"
   ]
  },
  {
   "cell_type": "code",
   "execution_count": 10,
   "id": "8571da76",
   "metadata": {},
   "outputs": [],
   "source": [
    "vector_store = FAISS.from_documents(docs,model)"
   ]
  },
  {
   "cell_type": "code",
   "execution_count": 11,
   "id": "b21f4b35",
   "metadata": {},
   "outputs": [
    {
     "data": {
      "text/plain": [
       "[Document(id='a8d4b9a6-d400-4b95-b125-dd85137a314c', metadata={'Country': 'USA'}, page_content='Apple is an American Company , which makes world class iPhones , iPads , MacBooks and many more. Being a market leader in all these , it values at USD $3 Trillion in Market Cap on NASDAQ.'),\n",
       " Document(id='e7b18f60-c9a7-46ae-8141-a28f992dafbc', metadata={'Country': 'USA', 'Sector': 'Technology'}, page_content='Microsoft, headquartered in Redmond, USA, is a global leader in software development. Known for Windows OS, Azure Cloud, and Office Suite, it has a market cap of over $2.5 Trillion.')]"
      ]
     },
     "execution_count": 11,
     "metadata": {},
     "output_type": "execute_result"
    }
   ],
   "source": [
    "vector_store.similarity_search(\n",
    "    query=\"What is Apple?\",\n",
    "    k=2\n",
    ")"
   ]
  },
  {
   "cell_type": "code",
   "execution_count": 12,
   "id": "531faaad",
   "metadata": {},
   "outputs": [
    {
     "name": "stdout",
     "output_type": "stream",
     "text": [
      "1\n",
      "Result : page_content='Apple is an American Company , which makes world class iPhones , iPads , MacBooks and many more. Being a market leader in all these , it values at USD $3 Trillion in Market Cap on NASDAQ.' metadata={'Country': 'USA'}\n",
      "2\n",
      "Result : page_content='Microsoft, headquartered in Redmond, USA, is a global leader in software development. Known for Windows OS, Azure Cloud, and Office Suite, it has a market cap of over $2.5 Trillion.' metadata={'Country': 'USA', 'Sector': 'Technology'}\n",
      "3\n",
      "Result : page_content='Tesla, led by Elon Musk, is an electric vehicle and clean energy company based in Austin, Texas. It dominates the EV market with models like Model S, Model 3, and Cybertruck.' metadata={'Country': 'USA', 'CEO': 'Elon Musk'}\n",
      "4\n",
      "Result : page_content='Amazon, founded by Jeff Bezos, is the world's largest online retailer. It offers services like AWS, Prime Delivery, and Alexa, with a market cap exceeding $1.8 Trillion.' metadata={'Country': 'USA', 'Founder': 'Jeff Bezos'}\n",
      "5\n",
      "Result : page_content='Louis Vuitton is a French luxury fashion brand specializing in leather goods, perfumes, and accessories. It is part of LVMH, the world's largest luxury conglomerate.' metadata={'Country': 'France', 'Parent Company': 'LVMH'}\n"
     ]
    }
   ],
   "source": [
    "for i,doc in enumerate(docs):\n",
    "    print(f\"{i+1}\"),\n",
    "    print(f\"Result : {doc}\")"
   ]
  },
  {
   "cell_type": "code",
   "execution_count": null,
   "id": "64908254",
   "metadata": {},
   "outputs": [],
   "source": []
  }
 ],
 "metadata": {
  "kernelspec": {
   "display_name": "Kapil_env",
   "language": "python",
   "name": "myenv"
  },
  "language_info": {
   "codemirror_mode": {
    "name": "ipython",
    "version": 3
   },
   "file_extension": ".py",
   "mimetype": "text/x-python",
   "name": "python",
   "nbconvert_exporter": "python",
   "pygments_lexer": "ipython3",
   "version": "3.13.3"
  }
 },
 "nbformat": 4,
 "nbformat_minor": 5
}
