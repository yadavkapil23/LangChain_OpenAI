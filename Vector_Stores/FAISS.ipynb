{
 "cells": [
  {
   "cell_type": "code",
   "execution_count": 6,
   "id": "7fe607c7",
   "metadata": {},
   "outputs": [],
   "source": [
    "from langchain.vectorstores import FAISS\n",
    "from langchain_openai import OpenAIEmbeddings\n",
    "from dotenv import load_dotenv\n",
    "from langchain.schema import Document"
   ]
  },
  {
   "cell_type": "code",
   "execution_count": 2,
   "id": "b2d458ca",
   "metadata": {},
   "outputs": [
    {
     "data": {
      "text/plain": [
       "True"
      ]
     },
     "execution_count": 2,
     "metadata": {},
     "output_type": "execute_result"
    }
   ],
   "source": [
    "load_dotenv()"
   ]
  },
  {
   "cell_type": "code",
   "execution_count": 3,
   "id": "1f5db6f6",
   "metadata": {},
   "outputs": [],
   "source": [
    "model = OpenAIEmbeddings()"
   ]
  },
  {
   "cell_type": "code",
   "execution_count": null,
   "id": "e9255767",
   "metadata": {},
   "outputs": [],
   "source": [
    "texts = [\n",
    "    \"Apple is a fruit.\",\n",
    "    \"Microsoft is a software company.\",\n",
    "    \"Python is a programming language.\",\n",
    "    \"The capital of France is Paris.\",\n",
    "    \"Mount Everest is the tallest mountain in the world.\"\n",
    "]"
   ]
  },
  {
   "cell_type": "code",
   "execution_count": 8,
   "id": "10b8b64f",
   "metadata": {},
   "outputs": [],
   "source": [
    "vector_store = FAISS.from_texts(texts, model)"
   ]
  },
  {
   "cell_type": "code",
   "execution_count": 9,
   "id": "9aacfcae",
   "metadata": {},
   "outputs": [],
   "source": [
    "results = vector_store.similarity_search(\n",
    "    query = \"What is Apple?\",\n",
    "    k=2\n",
    "    )"
   ]
  },
  {
   "cell_type": "code",
   "execution_count": 10,
   "id": "2fa75ce2",
   "metadata": {},
   "outputs": [
    {
     "name": "stdout",
     "output_type": "stream",
     "text": [
      "[Document(id='92af0734-407e-4281-80af-4dea6b451f05', metadata={}, page_content='Apple is a fruit.'), Document(id='700e4c47-468d-4cc5-8342-d073c79fbdf2', metadata={}, page_content='Microsoft is a software company.')]\n"
     ]
    }
   ],
   "source": [
    "print(results)"
   ]
  },
  {
   "cell_type": "code",
   "execution_count": null,
   "id": "ef05fc4b",
   "metadata": {},
   "outputs": [],
   "source": [
    "# view documents\n",
    "vector_store.get(include=['embeddings','documents', 'metadatas'])"
   ]
  }
 ],
 "metadata": {
  "kernelspec": {
   "display_name": "Kapil_env",
   "language": "python",
   "name": "myenv"
  },
  "language_info": {
   "codemirror_mode": {
    "name": "ipython",
    "version": 3
   },
   "file_extension": ".py",
   "mimetype": "text/x-python",
   "name": "python",
   "nbconvert_exporter": "python",
   "pygments_lexer": "ipython3",
   "version": "3.13.3"
  }
 },
 "nbformat": 4,
 "nbformat_minor": 5
}
